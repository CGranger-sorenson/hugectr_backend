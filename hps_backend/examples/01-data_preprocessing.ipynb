{
 "cells": [
  {
   "cell_type": "code",
   "execution_count": 8,
   "id": "323069a1",
   "metadata": {},
   "outputs": [
    {
     "ename": "ModuleNotFoundError",
     "evalue": "No module named 'hugectr'",
     "output_type": "error",
     "traceback": [
      "\u001b[0;31m---------------------------------------------------------------------------\u001b[0m",
      "\u001b[0;31mModuleNotFoundError\u001b[0m                       Traceback (most recent call last)",
      "Input \u001b[0;32mIn [8]\u001b[0m, in \u001b[0;36m<cell line: 1>\u001b[0;34m()\u001b[0m\n\u001b[0;32m----> 1\u001b[0m \u001b[38;5;28;01mimport\u001b[39;00m \u001b[38;5;21;01mhugectr\u001b[39;00m\n",
      "\u001b[0;31mModuleNotFoundError\u001b[0m: No module named 'hugectr'"
     ]
    }
   ],
   "source": [
    "import hugectr"
   ]
  },
  {
   "cell_type": "code",
   "execution_count": 2,
   "id": "2e3da27d",
   "metadata": {},
   "outputs": [],
   "source": [
    "from hugectr.tools import DataGeneratorParams, DataGenerator"
   ]
  },
  {
   "cell_type": "code",
   "execution_count": 3,
   "id": "1e98bce8",
   "metadata": {},
   "outputs": [],
   "source": [
    "data_generator_params = DataGeneratorParams(\n",
    "  format = hugectr.DataReaderType_t.Norm,\n",
    "  label_dim = 1,\n",
    "  dense_dim = 13,\n",
    "  num_slot = 26,\n",
    "  i64_input_key = False,\n",
    "  source = \"./dcn_norm/file_list.txt\",\n",
    "  eval_source = \"./dcn_norm/file_list_test.txt\",\n",
    "  slot_size_array = [39884, 39043, 17289, 7420, 20263, 3, 7120, 1543, 39884, 39043, 17289, 7420, 20263, 3, 7120, 1543, 63, 63, 39884, 39043, 17289, 7420, 20263, 3, 7120,\n",
    "  1543],\n",
    "  check_type = hugectr.Check_t.Sum,\n",
    "  dist_type = hugectr.Distribution_t.PowerLaw,\n",
    "  power_law_type = hugectr.PowerLaw_t.Short)\n"
   ]
  },
  {
   "cell_type": "code",
   "execution_count": 6,
   "id": "d9627678",
   "metadata": {},
   "outputs": [],
   "source": []
  },
  {
   "cell_type": "code",
   "execution_count": 4,
   "id": "d1401809",
   "metadata": {},
   "outputs": [],
   "source": [
    "data_generator = DataGenerator(data_generator_params)"
   ]
  },
  {
   "cell_type": "code",
   "execution_count": 5,
   "id": "94712680",
   "metadata": {},
   "outputs": [
    {
     "name": "stdout",
     "output_type": "stream",
     "text": [
      "[HCTR][06:53:50.223][INFO][RK0][main]: Generate Norm dataset\n",
      "[HCTR][06:53:50.223][INFO][RK0][main]: train data folder: ./dcn_norm, eval data folder: ./dcn_norm, slot_size_array: 39884, 39043, 17289, 7420, 20263, 3, 7120, 1543, 39884, 39043, 17289, 7420, 20263, 3, 7120, 1543, 63, 63, 39884, 39043, 17289, 7420, 20263, 3, 7120, 1543, nnz array: 1, 1, 1, 1, 1, 1, 1, 1, 1, 1, 1, 1, 1, 1, 1, 1, 1, 1, 1, 1, 1, 1, 1, 1, 1, 1, #files for train: 128, #files for eval: 32, #samples per file: 40960, Use power law distribution: 1, alpha of power law: 1.3\n",
      "[HCTR][06:53:50.223][INFO][RK0][main]: ./dcn_norm exist\n",
      "[HCTR][06:53:50.223][INFO][RK0][main]: ./dcn_norm/train/gen_0.data\n",
      "[HCTR][06:53:50.342][INFO][RK0][main]: ./dcn_norm/train/gen_1.data\n",
      "[HCTR][06:53:50.461][INFO][RK0][main]: ./dcn_norm/train/gen_2.data\n",
      "[HCTR][06:53:50.580][INFO][RK0][main]: ./dcn_norm/train/gen_3.data\n",
      "[HCTR][06:53:50.699][INFO][RK0][main]: ./dcn_norm/train/gen_4.data\n",
      "[HCTR][06:53:50.818][INFO][RK0][main]: ./dcn_norm/train/gen_5.data\n",
      "[HCTR][06:53:50.937][INFO][RK0][main]: ./dcn_norm/train/gen_6.data\n",
      "[HCTR][06:53:51.056][INFO][RK0][main]: ./dcn_norm/train/gen_7.data\n",
      "[HCTR][06:53:51.175][INFO][RK0][main]: ./dcn_norm/train/gen_8.data\n",
      "[HCTR][06:53:51.294][INFO][RK0][main]: ./dcn_norm/train/gen_9.data\n",
      "[HCTR][06:53:51.413][INFO][RK0][main]: ./dcn_norm/train/gen_10.data\n",
      "[HCTR][06:53:51.532][INFO][RK0][main]: ./dcn_norm/train/gen_11.data\n",
      "[HCTR][06:53:51.651][INFO][RK0][main]: ./dcn_norm/train/gen_12.data\n",
      "[HCTR][06:53:51.771][INFO][RK0][main]: ./dcn_norm/train/gen_13.data\n",
      "[HCTR][06:53:51.889][INFO][RK0][main]: ./dcn_norm/train/gen_14.data\n",
      "[HCTR][06:53:52.008][INFO][RK0][main]: ./dcn_norm/train/gen_15.data\n",
      "[HCTR][06:53:52.127][INFO][RK0][main]: ./dcn_norm/train/gen_16.data\n",
      "[HCTR][06:53:52.247][INFO][RK0][main]: ./dcn_norm/train/gen_17.data\n",
      "[HCTR][06:53:52.366][INFO][RK0][main]: ./dcn_norm/train/gen_18.data\n",
      "[HCTR][06:53:52.485][INFO][RK0][main]: ./dcn_norm/train/gen_19.data\n",
      "[HCTR][06:53:52.604][INFO][RK0][main]: ./dcn_norm/train/gen_20.data\n",
      "[HCTR][06:53:52.723][INFO][RK0][main]: ./dcn_norm/train/gen_21.data\n",
      "[HCTR][06:53:52.841][INFO][RK0][main]: ./dcn_norm/train/gen_22.data\n",
      "[HCTR][06:53:52.960][INFO][RK0][main]: ./dcn_norm/train/gen_23.data\n",
      "[HCTR][06:53:53.078][INFO][RK0][main]: ./dcn_norm/train/gen_24.data\n",
      "[HCTR][06:53:53.197][INFO][RK0][main]: ./dcn_norm/train/gen_25.data\n",
      "[HCTR][06:53:53.315][INFO][RK0][main]: ./dcn_norm/train/gen_26.data\n",
      "[HCTR][06:53:53.434][INFO][RK0][main]: ./dcn_norm/train/gen_27.data\n",
      "[HCTR][06:53:53.553][INFO][RK0][main]: ./dcn_norm/train/gen_28.data\n",
      "[HCTR][06:53:53.671][INFO][RK0][main]: ./dcn_norm/train/gen_29.data\n",
      "[HCTR][06:53:53.790][INFO][RK0][main]: ./dcn_norm/train/gen_30.data\n",
      "[HCTR][06:53:53.908][INFO][RK0][main]: ./dcn_norm/train/gen_31.data\n",
      "[HCTR][06:53:54.027][INFO][RK0][main]: ./dcn_norm/train/gen_32.data\n",
      "[HCTR][06:53:54.145][INFO][RK0][main]: ./dcn_norm/train/gen_33.data\n",
      "[HCTR][06:53:54.265][INFO][RK0][main]: ./dcn_norm/train/gen_34.data\n",
      "[HCTR][06:53:54.385][INFO][RK0][main]: ./dcn_norm/train/gen_35.data\n",
      "[HCTR][06:53:54.503][INFO][RK0][main]: ./dcn_norm/train/gen_36.data\n",
      "[HCTR][06:53:54.622][INFO][RK0][main]: ./dcn_norm/train/gen_37.data\n",
      "[HCTR][06:53:54.741][INFO][RK0][main]: ./dcn_norm/train/gen_38.data\n",
      "[HCTR][06:53:54.859][INFO][RK0][main]: ./dcn_norm/train/gen_39.data\n",
      "[HCTR][06:53:54.978][INFO][RK0][main]: ./dcn_norm/train/gen_40.data\n",
      "[HCTR][06:53:55.096][INFO][RK0][main]: ./dcn_norm/train/gen_41.data\n",
      "[HCTR][06:53:55.215][INFO][RK0][main]: ./dcn_norm/train/gen_42.data\n",
      "[HCTR][06:53:55.333][INFO][RK0][main]: ./dcn_norm/train/gen_43.data\n",
      "[HCTR][06:53:55.452][INFO][RK0][main]: ./dcn_norm/train/gen_44.data\n",
      "[HCTR][06:53:55.571][INFO][RK0][main]: ./dcn_norm/train/gen_45.data\n",
      "[HCTR][06:53:55.689][INFO][RK0][main]: ./dcn_norm/train/gen_46.data\n",
      "[HCTR][06:53:55.808][INFO][RK0][main]: ./dcn_norm/train/gen_47.data\n",
      "[HCTR][06:53:55.926][INFO][RK0][main]: ./dcn_norm/train/gen_48.data\n",
      "[HCTR][06:53:56.046][INFO][RK0][main]: ./dcn_norm/train/gen_49.data\n",
      "[HCTR][06:53:56.165][INFO][RK0][main]: ./dcn_norm/train/gen_50.data\n",
      "[HCTR][06:53:56.283][INFO][RK0][main]: ./dcn_norm/train/gen_51.data\n",
      "[HCTR][06:53:56.402][INFO][RK0][main]: ./dcn_norm/train/gen_52.data\n",
      "[HCTR][06:53:56.521][INFO][RK0][main]: ./dcn_norm/train/gen_53.data\n",
      "[HCTR][06:53:56.639][INFO][RK0][main]: ./dcn_norm/train/gen_54.data\n",
      "[HCTR][06:53:56.758][INFO][RK0][main]: ./dcn_norm/train/gen_55.data\n",
      "[HCTR][06:53:56.876][INFO][RK0][main]: ./dcn_norm/train/gen_56.data\n",
      "[HCTR][06:53:56.995][INFO][RK0][main]: ./dcn_norm/train/gen_57.data\n",
      "[HCTR][06:53:57.113][INFO][RK0][main]: ./dcn_norm/train/gen_58.data\n",
      "[HCTR][06:53:57.232][INFO][RK0][main]: ./dcn_norm/train/gen_59.data\n",
      "[HCTR][06:53:57.350][INFO][RK0][main]: ./dcn_norm/train/gen_60.data\n",
      "[HCTR][06:53:57.469][INFO][RK0][main]: ./dcn_norm/train/gen_61.data\n",
      "[HCTR][06:53:57.588][INFO][RK0][main]: ./dcn_norm/train/gen_62.data\n",
      "[HCTR][06:53:57.706][INFO][RK0][main]: ./dcn_norm/train/gen_63.data\n",
      "[HCTR][06:53:57.825][INFO][RK0][main]: ./dcn_norm/train/gen_64.data\n",
      "[HCTR][06:53:57.944][INFO][RK0][main]: ./dcn_norm/train/gen_65.data\n",
      "[HCTR][06:53:58.062][INFO][RK0][main]: ./dcn_norm/train/gen_66.data\n",
      "[HCTR][06:53:58.182][INFO][RK0][main]: ./dcn_norm/train/gen_67.data\n",
      "[HCTR][06:53:58.301][INFO][RK0][main]: ./dcn_norm/train/gen_68.data\n",
      "[HCTR][06:53:58.420][INFO][RK0][main]: ./dcn_norm/train/gen_69.data\n",
      "[HCTR][06:53:58.539][INFO][RK0][main]: ./dcn_norm/train/gen_70.data\n",
      "[HCTR][06:53:58.658][INFO][RK0][main]: ./dcn_norm/train/gen_71.data\n",
      "[HCTR][06:53:58.776][INFO][RK0][main]: ./dcn_norm/train/gen_72.data\n",
      "[HCTR][06:53:58.895][INFO][RK0][main]: ./dcn_norm/train/gen_73.data\n",
      "[HCTR][06:53:59.014][INFO][RK0][main]: ./dcn_norm/train/gen_74.data\n",
      "[HCTR][06:53:59.132][INFO][RK0][main]: ./dcn_norm/train/gen_75.data\n",
      "[HCTR][06:53:59.251][INFO][RK0][main]: ./dcn_norm/train/gen_76.data\n",
      "[HCTR][06:53:59.370][INFO][RK0][main]: ./dcn_norm/train/gen_77.data\n",
      "[HCTR][06:53:59.488][INFO][RK0][main]: ./dcn_norm/train/gen_78.data\n",
      "[HCTR][06:53:59.607][INFO][RK0][main]: ./dcn_norm/train/gen_79.data\n",
      "[HCTR][06:53:59.726][INFO][RK0][main]: ./dcn_norm/train/gen_80.data\n",
      "[HCTR][06:53:59.845][INFO][RK0][main]: ./dcn_norm/train/gen_81.data\n",
      "[HCTR][06:53:59.964][INFO][RK0][main]: ./dcn_norm/train/gen_82.data\n",
      "[HCTR][06:54:00.083][INFO][RK0][main]: ./dcn_norm/train/gen_83.data\n",
      "[HCTR][06:54:00.201][INFO][RK0][main]: ./dcn_norm/train/gen_84.data\n",
      "[HCTR][06:54:00.320][INFO][RK0][main]: ./dcn_norm/train/gen_85.data\n",
      "[HCTR][06:54:00.439][INFO][RK0][main]: ./dcn_norm/train/gen_86.data\n",
      "[HCTR][06:54:00.557][INFO][RK0][main]: ./dcn_norm/train/gen_87.data\n",
      "[HCTR][06:54:00.676][INFO][RK0][main]: ./dcn_norm/train/gen_88.data\n",
      "[HCTR][06:54:00.795][INFO][RK0][main]: ./dcn_norm/train/gen_89.data\n",
      "[HCTR][06:54:00.913][INFO][RK0][main]: ./dcn_norm/train/gen_90.data\n",
      "[HCTR][06:54:01.032][INFO][RK0][main]: ./dcn_norm/train/gen_91.data\n",
      "[HCTR][06:54:01.152][INFO][RK0][main]: ./dcn_norm/train/gen_92.data\n",
      "[HCTR][06:54:01.271][INFO][RK0][main]: ./dcn_norm/train/gen_93.data\n",
      "[HCTR][06:54:01.390][INFO][RK0][main]: ./dcn_norm/train/gen_94.data\n",
      "[HCTR][06:54:01.509][INFO][RK0][main]: ./dcn_norm/train/gen_95.data\n",
      "[HCTR][06:54:01.627][INFO][RK0][main]: ./dcn_norm/train/gen_96.data\n",
      "[HCTR][06:54:01.746][INFO][RK0][main]: ./dcn_norm/train/gen_97.data\n",
      "[HCTR][06:54:01.865][INFO][RK0][main]: ./dcn_norm/train/gen_98.data\n",
      "[HCTR][06:54:01.984][INFO][RK0][main]: ./dcn_norm/train/gen_99.data\n",
      "[HCTR][06:54:02.102][INFO][RK0][main]: ./dcn_norm/train/gen_100.data\n",
      "[HCTR][06:54:02.221][INFO][RK0][main]: ./dcn_norm/train/gen_101.data\n",
      "[HCTR][06:54:02.340][INFO][RK0][main]: ./dcn_norm/train/gen_102.data\n",
      "[HCTR][06:54:02.458][INFO][RK0][main]: ./dcn_norm/train/gen_103.data\n",
      "[HCTR][06:54:02.577][INFO][RK0][main]: ./dcn_norm/train/gen_104.data\n",
      "[HCTR][06:54:02.696][INFO][RK0][main]: ./dcn_norm/train/gen_105.data\n",
      "[HCTR][06:54:02.814][INFO][RK0][main]: ./dcn_norm/train/gen_106.data\n",
      "[HCTR][06:54:02.933][INFO][RK0][main]: ./dcn_norm/train/gen_107.data\n",
      "[HCTR][06:54:03.051][INFO][RK0][main]: ./dcn_norm/train/gen_108.data\n",
      "[HCTR][06:54:03.170][INFO][RK0][main]: ./dcn_norm/train/gen_109.data\n",
      "[HCTR][06:54:03.288][INFO][RK0][main]: ./dcn_norm/train/gen_110.data\n",
      "[HCTR][06:54:03.407][INFO][RK0][main]: ./dcn_norm/train/gen_111.data\n",
      "[HCTR][06:54:03.525][INFO][RK0][main]: ./dcn_norm/train/gen_112.data\n",
      "[HCTR][06:54:03.644][INFO][RK0][main]: ./dcn_norm/train/gen_113.data\n",
      "[HCTR][06:54:03.762][INFO][RK0][main]: ./dcn_norm/train/gen_114.data\n",
      "[HCTR][06:54:03.881][INFO][RK0][main]: ./dcn_norm/train/gen_115.data\n",
      "[HCTR][06:54:04.000][INFO][RK0][main]: ./dcn_norm/train/gen_116.data\n",
      "[HCTR][06:54:04.118][INFO][RK0][main]: ./dcn_norm/train/gen_117.data\n",
      "[HCTR][06:54:04.237][INFO][RK0][main]: ./dcn_norm/train/gen_118.data\n",
      "[HCTR][06:54:04.356][INFO][RK0][main]: ./dcn_norm/train/gen_119.data\n",
      "[HCTR][06:54:04.474][INFO][RK0][main]: ./dcn_norm/train/gen_120.data\n",
      "[HCTR][06:54:04.593][INFO][RK0][main]: ./dcn_norm/train/gen_121.data\n",
      "[HCTR][06:54:04.711][INFO][RK0][main]: ./dcn_norm/train/gen_122.data\n",
      "[HCTR][06:54:04.831][INFO][RK0][main]: ./dcn_norm/train/gen_123.data\n",
      "[HCTR][06:54:04.949][INFO][RK0][main]: ./dcn_norm/train/gen_124.data\n",
      "[HCTR][06:54:05.068][INFO][RK0][main]: ./dcn_norm/train/gen_125.data\n",
      "[HCTR][06:54:05.186][INFO][RK0][main]: ./dcn_norm/train/gen_126.data\n",
      "[HCTR][06:54:05.305][INFO][RK0][main]: ./dcn_norm/train/gen_127.data\n",
      "[HCTR][06:54:05.423][INFO][RK0][main]: ./dcn_norm/file_list.txt done!\n",
      "[HCTR][06:54:05.423][INFO][RK0][main]: ./dcn_norm/val/gen_0.data\n",
      "[HCTR][06:54:05.542][INFO][RK0][main]: ./dcn_norm/val/gen_1.data\n",
      "[HCTR][06:54:05.660][INFO][RK0][main]: ./dcn_norm/val/gen_2.data\n",
      "[HCTR][06:54:05.778][INFO][RK0][main]: ./dcn_norm/val/gen_3.data\n",
      "[HCTR][06:54:05.897][INFO][RK0][main]: ./dcn_norm/val/gen_4.data\n",
      "[HCTR][06:54:06.015][INFO][RK0][main]: ./dcn_norm/val/gen_5.data\n",
      "[HCTR][06:54:06.134][INFO][RK0][main]: ./dcn_norm/val/gen_6.data\n",
      "[HCTR][06:54:06.252][INFO][RK0][main]: ./dcn_norm/val/gen_7.data\n",
      "[HCTR][06:54:06.370][INFO][RK0][main]: ./dcn_norm/val/gen_8.data\n",
      "[HCTR][06:54:06.488][INFO][RK0][main]: ./dcn_norm/val/gen_9.data\n",
      "[HCTR][06:54:06.607][INFO][RK0][main]: ./dcn_norm/val/gen_10.data\n",
      "[HCTR][06:54:06.725][INFO][RK0][main]: ./dcn_norm/val/gen_11.data\n",
      "[HCTR][06:54:06.843][INFO][RK0][main]: ./dcn_norm/val/gen_12.data\n",
      "[HCTR][06:54:06.961][INFO][RK0][main]: ./dcn_norm/val/gen_13.data\n",
      "[HCTR][06:54:07.080][INFO][RK0][main]: ./dcn_norm/val/gen_14.data\n",
      "[HCTR][06:54:07.198][INFO][RK0][main]: ./dcn_norm/val/gen_15.data\n",
      "[HCTR][06:54:07.316][INFO][RK0][main]: ./dcn_norm/val/gen_16.data\n",
      "[HCTR][06:54:07.434][INFO][RK0][main]: ./dcn_norm/val/gen_17.data\n",
      "[HCTR][06:54:07.553][INFO][RK0][main]: ./dcn_norm/val/gen_18.data\n",
      "[HCTR][06:54:07.671][INFO][RK0][main]: ./dcn_norm/val/gen_19.data\n",
      "[HCTR][06:54:07.790][INFO][RK0][main]: ./dcn_norm/val/gen_20.data\n",
      "[HCTR][06:54:07.908][INFO][RK0][main]: ./dcn_norm/val/gen_21.data\n",
      "[HCTR][06:54:08.026][INFO][RK0][main]: ./dcn_norm/val/gen_22.data\n",
      "[HCTR][06:54:08.145][INFO][RK0][main]: ./dcn_norm/val/gen_23.data\n",
      "[HCTR][06:54:08.263][INFO][RK0][main]: ./dcn_norm/val/gen_24.data\n",
      "[HCTR][06:54:08.381][INFO][RK0][main]: ./dcn_norm/val/gen_25.data\n",
      "[HCTR][06:54:08.500][INFO][RK0][main]: ./dcn_norm/val/gen_26.data\n",
      "[HCTR][06:54:08.618][INFO][RK0][main]: ./dcn_norm/val/gen_27.data\n",
      "[HCTR][06:54:08.736][INFO][RK0][main]: ./dcn_norm/val/gen_28.data\n",
      "[HCTR][06:54:08.854][INFO][RK0][main]: ./dcn_norm/val/gen_29.data\n",
      "[HCTR][06:54:08.973][INFO][RK0][main]: ./dcn_norm/val/gen_30.data\n",
      "[HCTR][06:54:09.091][INFO][RK0][main]: ./dcn_norm/val/gen_31.data\n",
      "[HCTR][06:54:09.209][INFO][RK0][main]: ./dcn_norm/file_list_test.txt done!\n"
     ]
    }
   ],
   "source": [
    "data_generator.generate()"
   ]
  },
  {
   "cell_type": "code",
   "execution_count": null,
   "id": "ba93182b",
   "metadata": {},
   "outputs": [],
   "source": []
  },
  {
   "cell_type": "code",
   "execution_count": null,
   "id": "eb1a2fde",
   "metadata": {},
   "outputs": [],
   "source": []
  },
  {
   "cell_type": "code",
   "execution_count": 7,
   "id": "600d010a",
   "metadata": {},
   "outputs": [],
   "source": [
    "data_generator_params = DataGeneratorParams(\n",
    "  format = hugectr.DataReaderType_t.Raw,\n",
    "  label_dim = 1,\n",
    "  dense_dim = 13,\n",
    "  num_slot = 26,\n",
    "  i64_input_key = False,\n",
    "  source = \"./dcn_raw/file_list.txt\",\n",
    "  eval_source = \"./dcn_raw/file_list_test.txt\",\n",
    "  slot_size_array = [39884, 39043, 17289, 7420, 20263, 3, 7120, 1543, 39884, 39043, 17289, 7420, 20263, 3, 7120, 1543, 63, 63, 39884, 39043, 17289, 7420, 20263, 3, 7120,\n",
    "  1543],\n",
    "  check_type = hugectr.Check_t.Sum,\n",
    "  dist_type = hugectr.Distribution_t.PowerLaw,\n",
    "  power_law_type = hugectr.PowerLaw_t.Short)"
   ]
  },
  {
   "cell_type": "code",
   "execution_count": 8,
   "id": "e37037a8",
   "metadata": {},
   "outputs": [],
   "source": [
    "data_generator = DataGenerator(data_generator_params)"
   ]
  },
  {
   "cell_type": "code",
   "execution_count": 9,
   "id": "cc14d89c",
   "metadata": {},
   "outputs": [
    {
     "name": "stdout",
     "output_type": "stream",
     "text": [
      "[HCTR][06:58:27.685][INFO][RK0][main]: Generate Raw dataset\n",
      "[HCTR][06:58:27.685][INFO][RK0][main]: train data folder: ./dcn_raw, eval data folder: ./dcn_raw, slot_size_array: 39884, 39043, 17289, 7420, 20263, 3, 7120, 1543, 39884, 39043, 17289, 7420, 20263, 3, 7120, 1543, 63, 63, 39884, 39043, 17289, 7420, 20263, 3, 7120, 1543, nnz array: 1, 1, 1, 1, 1, 1, 1, 1, 1, 1, 1, 1, 1, 1, 1, 1, 1, 1, 1, 1, 1, 1, 1, 1, 1, 1, Number of train samples: 5242880, Number of eval samples: 1310720, Use power law distribution: 1, alpha of power law: 1.3\n",
      "[HCTR][06:58:27.685][INFO][RK0][main]: ./dcn_raw exist\n"
     ]
    }
   ],
   "source": [
    "data_generator.generate()"
   ]
  },
  {
   "cell_type": "code",
   "execution_count": null,
   "id": "ad5b3b26-2553-4839-b179-96eb573c4483",
   "metadata": {},
   "outputs": [],
   "source": []
  },
  {
   "cell_type": "code",
   "execution_count": null,
   "id": "c4408d20-ed4e-438f-b9eb-e11c4baeb5c5",
   "metadata": {},
   "outputs": [],
   "source": []
  },
  {
   "cell_type": "code",
   "execution_count": null,
   "id": "f8135365-a9df-483a-af73-072b7318b5af",
   "metadata": {},
   "outputs": [],
   "source": []
  },
  {
   "cell_type": "code",
   "execution_count": null,
   "id": "1b4a80e8-908f-4dc8-a241-257f5f59d8d6",
   "metadata": {},
   "outputs": [],
   "source": []
  },
  {
   "cell_type": "code",
   "execution_count": 2,
   "id": "97a6e7eb",
   "metadata": {},
   "outputs": [
    {
     "name": "stdout",
     "output_type": "stream",
     "text": [
      "/workspace/merlin/hugectr_inference_backend/hps_backend/examples\n"
     ]
    }
   ],
   "source": [
    "!pwd"
   ]
  },
  {
   "cell_type": "code",
   "execution_count": 3,
   "id": "3ff0ff77",
   "metadata": {},
   "outputs": [],
   "source": [
    "!mkdir etc_data"
   ]
  },
  {
   "cell_type": "code",
   "execution_count": 4,
   "id": "f13750e9-ce56-480d-b3da-f1c8fb249c69",
   "metadata": {},
   "outputs": [
    {
     "ename": "ModuleNotFoundError",
     "evalue": "No module named 'hugectr'",
     "output_type": "error",
     "traceback": [
      "\u001b[0;31m---------------------------------------------------------------------------\u001b[0m",
      "\u001b[0;31mModuleNotFoundError\u001b[0m                       Traceback (most recent call last)",
      "Input \u001b[0;32mIn [4]\u001b[0m, in \u001b[0;36m<cell line: 1>\u001b[0;34m()\u001b[0m\n\u001b[0;32m----> 1\u001b[0m \u001b[38;5;28;01mimport\u001b[39;00m \u001b[38;5;21;01mhugectr\u001b[39;00m\n\u001b[1;32m      2\u001b[0m \u001b[38;5;28;01mfrom\u001b[39;00m \u001b[38;5;21;01mhugectr\u001b[39;00m\u001b[38;5;21;01m.\u001b[39;00m\u001b[38;5;21;01mtools\u001b[39;00m \u001b[38;5;28;01mimport\u001b[39;00m DataGeneratorParams, DataGenerator\n\u001b[1;32m      4\u001b[0m data_generator_params \u001b[38;5;241m=\u001b[39m DataGeneratorParams(\n\u001b[1;32m      5\u001b[0m   \u001b[38;5;28mformat\u001b[39m \u001b[38;5;241m=\u001b[39m hugectr\u001b[38;5;241m.\u001b[39mDataReaderType_t\u001b[38;5;241m.\u001b[39mParquet,\n\u001b[1;32m      6\u001b[0m   label_dim \u001b[38;5;241m=\u001b[39m \u001b[38;5;241m1\u001b[39m,\n\u001b[0;32m   (...)\u001b[0m\n\u001b[1;32m     18\u001b[0m   eval_num_files \u001b[38;5;241m=\u001b[39m \u001b[38;5;241m4\u001b[39m,\n\u001b[1;32m     19\u001b[0m   num_samples_per_file \u001b[38;5;241m=\u001b[39m \u001b[38;5;241m40960\u001b[39m)\n",
      "\u001b[0;31mModuleNotFoundError\u001b[0m: No module named 'hugectr'"
     ]
    }
   ],
   "source": [
    "import hugectr\n",
    "from hugectr.tools import DataGeneratorParams, DataGenerator\n",
    "\n",
    "data_generator_params = DataGeneratorParams(\n",
    "  format = hugectr.DataReaderType_t.Parquet,\n",
    "  label_dim = 1,\n",
    "  dense_dim = 10,\n",
    "  num_slot = 4,\n",
    "  i64_input_key = True,\n",
    "  nnz_array = [1, 1, 1, 1],\n",
    "  source = \"./data_parquet/file_list.txt\",\n",
    "  eval_source = \"./data_parquet/file_list_test.txt\",\n",
    "  slot_size_array = [10000, 10000, 10000, 10000],\n",
    "  check_type = hugectr.Check_t.Non,\n",
    "  dist_type = hugectr.Distribution_t.PowerLaw,\n",
    "  power_law_type = hugectr.PowerLaw_t.Short,\n",
    "  num_files = 16,\n",
    "  eval_num_files = 4,\n",
    "  num_samples_per_file = 40960)\n",
    "data_generator = DataGenerator(data_generator_params)\n",
    "data_generator.generate()"
   ]
  },
  {
   "cell_type": "code",
   "execution_count": null,
   "id": "9aac1921-89e4-452c-9205-3469e337d86d",
   "metadata": {},
   "outputs": [],
   "source": []
  },
  {
   "cell_type": "code",
   "execution_count": null,
   "id": "8a188e2d-1316-4bbc-93ad-e288341eaf2f",
   "metadata": {},
   "outputs": [],
   "source": []
  },
  {
   "cell_type": "code",
   "execution_count": null,
   "id": "dca7f216-15e4-416a-b0e0-e5e98d781617",
   "metadata": {},
   "outputs": [],
   "source": []
  },
  {
   "cell_type": "code",
   "execution_count": null,
   "id": "9218d4e9-4fc5-414b-ad7e-7a3fe6e588b9",
   "metadata": {},
   "outputs": [],
   "source": []
  },
  {
   "cell_type": "code",
   "execution_count": null,
   "id": "73f804e4-da38-4863-b5ca-e229e2f1d8d5",
   "metadata": {},
   "outputs": [],
   "source": []
  }
 ],
 "metadata": {
  "kernelspec": {
   "display_name": "Python 3 (ipykernel)",
   "language": "python",
   "name": "python3"
  },
  "language_info": {
   "codemirror_mode": {
    "name": "ipython",
    "version": 3
   },
   "file_extension": ".py",
   "mimetype": "text/x-python",
   "name": "python",
   "nbconvert_exporter": "python",
   "pygments_lexer": "ipython3",
   "version": "3.8.10"
  }
 },
 "nbformat": 4,
 "nbformat_minor": 5
}
