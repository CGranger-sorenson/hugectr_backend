{
 "cells": [
  {
   "cell_type": "code",
   "execution_count": null,
   "id": "5cb5947f-775e-424f-b0a3-63ad04eace8b",
   "metadata": {},
   "outputs": [],
   "source": []
  },
  {
   "cell_type": "code",
   "execution_count": null,
   "id": "b0e39a71-1305-453c-af80-5b193e4eaced",
   "metadata": {},
   "outputs": [],
   "source": []
  },
  {
   "cell_type": "code",
   "execution_count": 20,
   "id": "7b43ab46-8b09-4a9c-b40a-2a1b9592ea40",
   "metadata": {},
   "outputs": [],
   "source": [
    "import os\n",
    "from time import time\n",
    "import re\n",
    "import shutil\n",
    "import glob\n",
    "import warnings\n",
    "\n",
    "import numpy as np\n",
    "import tritonclient.http as httpclient\n",
    "from tritonclient.utils import *"
   ]
  },
  {
   "cell_type": "markdown",
   "id": "ea13f464-a972-4573-950b-4a6ae221fbb2",
   "metadata": {},
   "source": [
    "### prepare repo"
   ]
  },
  {
   "cell_type": "code",
   "execution_count": 21,
   "id": "bd2eafea-a703-4427-9f0a-d4a8d6114ceb",
   "metadata": {},
   "outputs": [],
   "source": [
    "BASE_DIR = \"/hps_demo\"\n",
    "\n",
    "def repo_check(repo_path):\n",
    "    if os.path.isdir(repo_path):\n",
    "        shutil.rmtree(repo_path)\n",
    "    os.makedirs(repo_path)\n",
    "\n",
    "hps_embedding_repo    = os.path.join(BASE_DIR, \"hps_embedding\")\n",
    "repo_check(hps_embedding_repo)\n",
    "hps_embedding_version = os.path.join(hps_embedding_repo, \"1\")\n",
    "repo_check(hps_embedding_version)\n",
    "\n",
    "tf_dense_model_repo    = os.path.join(BASE_DIR, \"tf_dense_model\")\n",
    "repo_check(tf_dense_model_repo)\n",
    "tf_dense_model_version = os.path.join(tf_dense_model_repo, \"1\")\n",
    "repo_check(tf_dense_model_version)\n",
    "\n",
    "ensemble_model_repo = os.path.join(BASE_DIR, \"ensemble_model\")\n",
    "repo_check(ensemble_model_repo)\n",
    "ensemble_model_version = os.path.join(ensemble_model_repo, \"1\")\n",
    "repo_check(ensemble_model_version)"
   ]
  },
  {
   "cell_type": "code",
   "execution_count": 22,
   "id": "b28f8933-395e-4262-b2c5-c884d2ec6e03",
   "metadata": {},
   "outputs": [
    {
     "name": "stdout",
     "output_type": "stream",
     "text": [
      "\u001b[01;34m/hps_demo\u001b[00m\n",
      "├── \u001b[01;34mensemble_model\u001b[00m\n",
      "│   └── \u001b[01;34m1\u001b[00m\n",
      "├── \u001b[01;34mhps_embedding\u001b[00m\n",
      "│   └── \u001b[01;34m1\u001b[00m\n",
      "└── \u001b[01;34mtf_dense_model\u001b[00m\n",
      "    └── \u001b[01;34m1\u001b[00m\n",
      "\n",
      "6 directories, 0 files\n"
     ]
    }
   ],
   "source": [
    "!tree /hps_demo"
   ]
  },
  {
   "cell_type": "code",
   "execution_count": null,
   "id": "4af4a3c9-2604-4013-b01c-0a28ee46c405",
   "metadata": {},
   "outputs": [],
   "source": []
  },
  {
   "cell_type": "markdown",
   "id": "d752ccf1-d2f3-452b-8918-25b5cb4f5ca2",
   "metadata": {},
   "source": [
    "### \"hps_embedding\" backend configuration "
   ]
  },
  {
   "cell_type": "code",
   "execution_count": 23,
   "id": "6d80c478-e183-4872-b5fe-cfefcf4be481",
   "metadata": {},
   "outputs": [
    {
     "name": "stdout",
     "output_type": "stream",
     "text": [
      "Writing /hps_demo/hps_embedding/config.pbtxt\n"
     ]
    }
   ],
   "source": [
    "%%writefile $hps_embedding_repo/config.pbtxt\n",
    "name: \"hps_embedding\"\n",
    "backend: \"hps\"\n",
    "max_batch_size:1024,\n",
    "input [\n",
    "  {\n",
    "    name: \"KEYS\"\n",
    "    data_type: TYPE_INT64\n",
    "    dims: [ -1 ]\n",
    "  },\n",
    "  {\n",
    "    name: \"NUMKEYS\"\n",
    "    data_type: TYPE_INT32\n",
    "    dims: [ -1 ]\n",
    "  }\n",
    "]\n",
    "output [\n",
    "  {\n",
    "    name: \"OUTPUT0\"\n",
    "    data_type: TYPE_FP32\n",
    "    dims: [ -1 ]\n",
    "  }\n",
    "]\n",
    "version_policy: {\n",
    "        specific:{versions: 1}\n",
    "},\n",
    "instance_group [\n",
    "  {\n",
    "    count: 1\n",
    "    kind : KIND_GPU\n",
    "    gpus:[0]\n",
    "  }\n",
    "]"
   ]
  },
  {
   "cell_type": "code",
   "execution_count": 24,
   "id": "052722ae-6419-45fc-97a2-85327112241f",
   "metadata": {},
   "outputs": [
    {
     "name": "stdout",
     "output_type": "stream",
     "text": [
      "Writing /hps_demo/hps_embedding.json\n"
     ]
    }
   ],
   "source": [
    "%%writefile $BASE_DIR/hps_embedding.json\n",
    "{\n",
    "    \"supportlonglong\": true,\n",
    "    \"models\": [{\n",
    "        \"model\": \"hps_embedding\",\n",
    "        \"sparse_files\": [\"/hps_demo/hps_embedding/1/naive_dnn_sparse.model\"],\n",
    "        \"num_of_worker_buffer_in_pool\": 3,\n",
    "        \"embedding_table_names\":[\"sparse_embedding1\"],\n",
    "        \"embedding_vecsize_per_table\": [16],\n",
    "        \"maxnum_catfeature_query_per_table_per_sample\": [3],\n",
    "        \"default_value_for_each_table\": [1.0],\n",
    "        \"deployed_device_list\": [0],\n",
    "        \"max_batch_size\": 65536,\n",
    "        \"cache_refresh_percentage_per_iteration\": 0.2,\n",
    "        \"hit_rate_threshold\": 1.0,\n",
    "        \"gpucacheper\": 1.0,\n",
    "        \"gpucache\": true\n",
    "        }\n",
    "    ]\n",
    "}"
   ]
  },
  {
   "cell_type": "code",
   "execution_count": 25,
   "id": "b686550f-17f5-401b-96b1-101a7a746e53",
   "metadata": {},
   "outputs": [],
   "source": [
    "!cp -r ./naive_dnn_sparse.model $hps_embedding_version/"
   ]
  },
  {
   "cell_type": "markdown",
   "id": "9a04fdd7-d8f8-4ab4-90cf-b7bf1366ab13",
   "metadata": {},
   "source": [
    "### \"tf_dense_model\" backend configuration "
   ]
  },
  {
   "cell_type": "code",
   "execution_count": 42,
   "id": "ce6e63d6-852d-49d1-8767-270c0304dc2c",
   "metadata": {},
   "outputs": [
    {
     "name": "stdout",
     "output_type": "stream",
     "text": [
      "Overwriting /hps_demo/tf_dense_model/config.pbtxt\n"
     ]
    }
   ],
   "source": [
    "%%writefile $tf_dense_model_repo/config.pbtxt\n",
    "name: \"tf_dense_model\"\n",
    "platform: \"tensorflow_savedmodel\"\n",
    "max_batch_size:16,\n",
    "input [\n",
    "  {\n",
    "    name: \"args_0\"\n",
    "    data_type: TYPE_FP32\n",
    "    dims: [48]\n",
    "  }\n",
    "]\n",
    "output [\n",
    "  {\n",
    "    name: \"fc_3\"\n",
    "    data_type: TYPE_FP32\n",
    "    dims: [1]\n",
    "  }\n",
    "]\n",
    "version_policy: {\n",
    "        specific:{versions: 1}\n",
    "},\n",
    "instance_group [\n",
    "  {\n",
    "    count: 1\n",
    "    kind : KIND_GPU\n",
    "    gpus:[0]\n",
    "  }\n",
    "]"
   ]
  },
  {
   "cell_type": "code",
   "execution_count": 27,
   "id": "92c485d4-dbf9-488b-a7a2-f3d41b801129",
   "metadata": {},
   "outputs": [],
   "source": [
    "!cp -r ./naive_dnn_dense.model $tf_dense_model_version/model.savedmodel"
   ]
  },
  {
   "cell_type": "code",
   "execution_count": null,
   "id": "80b397cd-0f37-45f7-b84b-0f1b669f0c6b",
   "metadata": {},
   "outputs": [],
   "source": []
  },
  {
   "cell_type": "code",
   "execution_count": 28,
   "id": "a1bf9df9-3067-4b97-bba4-852cbab67c0d",
   "metadata": {},
   "outputs": [
    {
     "name": "stdout",
     "output_type": "stream",
     "text": [
      "\u001b[01;34m/hps_demo\u001b[00m\n",
      "├── \u001b[01;34mensemble_model\u001b[00m\n",
      "│   └── \u001b[01;34m1\u001b[00m\n",
      "├── \u001b[01;34mhps_embedding\u001b[00m\n",
      "│   ├── \u001b[01;34m1\u001b[00m\n",
      "│   │   └── \u001b[01;34mnaive_dnn_sparse.model\u001b[00m\n",
      "│   │       ├── emb_vector\n",
      "│   │       └── key\n",
      "│   └── config.pbtxt\n",
      "├── hps_embedding.json\n",
      "└── \u001b[01;34mtf_dense_model\u001b[00m\n",
      "    ├── \u001b[01;34m1\u001b[00m\n",
      "    │   └── \u001b[01;34mmodel.savedmodel\u001b[00m\n",
      "    │       ├── \u001b[01;34massets\u001b[00m\n",
      "    │       ├── keras_metadata.pb\n",
      "    │       ├── saved_model.pb\n",
      "    │       └── \u001b[01;34mvariables\u001b[00m\n",
      "    │           ├── variables.data-00000-of-00001\n",
      "    │           └── variables.index\n",
      "    └── config.pbtxt\n",
      "\n",
      "10 directories, 9 files\n"
     ]
    }
   ],
   "source": [
    "!tree $BASE_DIR"
   ]
  },
  {
   "cell_type": "code",
   "execution_count": null,
   "id": "e0e41260-2e6e-4497-995b-6fd52e6984fe",
   "metadata": {},
   "outputs": [],
   "source": []
  },
  {
   "cell_type": "code",
   "execution_count": null,
   "id": "4e34902a-4d64-4f4e-a02d-eb6ced3f8cd9",
   "metadata": {},
   "outputs": [],
   "source": [
    "tritonserver --model-repository=/hps_infer/embedding/  --model-control-mode=explicit --backend-config=tensorflow,version=2 --load-model=hps_dense"
   ]
  },
  {
   "cell_type": "code",
   "execution_count": null,
   "id": "922dca17-9163-47a9-92c2-4a9cab3482ba",
   "metadata": {},
   "outputs": [],
   "source": [
    "tritonserver --model-repository=/workspace/workspace/hps_infer/embedding/  --model-control-mode=explicit --backend-config=tensorflow,version=2 --load-model=hps_dense"
   ]
  },
  {
   "cell_type": "code",
   "execution_count": null,
   "id": "cc819650-4750-4817-a095-db8fb8a8a676",
   "metadata": {},
   "outputs": [],
   "source": []
  },
  {
   "cell_type": "code",
   "execution_count": null,
   "id": "97235369-7c6d-40e1-9d8e-4bca74526492",
   "metadata": {},
   "outputs": [],
   "source": []
  },
  {
   "cell_type": "code",
   "execution_count": null,
   "id": "d6790569-fb70-4c57-977d-90fec624b32e",
   "metadata": {},
   "outputs": [],
   "source": [
    "tritonserver --model-repository=/hps_infer/embedding/ --load-model=hps_triton_ensemble --backend-directory=/usr/local/hugectr/backends --backend-config=hps,ps=/hps_infer/embedding/hps_triton_ensemble.json"
   ]
  },
  {
   "cell_type": "code",
   "execution_count": null,
   "id": "30c51144-abe9-4b10-90a8-736b7105ddc1",
   "metadata": {},
   "outputs": [],
   "source": [
    "tritonserver --model-repository=/hps_infer/embedding/ --load-model=hps_dense --backend-config=tensorflow,version=2 --model-control-mode=explicit"
   ]
  },
  {
   "cell_type": "code",
   "execution_count": null,
   "id": "001b58ad-b48b-43e6-99ec-63fe220a0e0f",
   "metadata": {},
   "outputs": [],
   "source": []
  },
  {
   "cell_type": "markdown",
   "id": "45d6a683-06fc-42d4-a9fc-ee10fd9e6c9f",
   "metadata": {},
   "source": [
    "# start triton server"
   ]
  },
  {
   "cell_type": "code",
   "execution_count": 35,
   "id": "5331b94e-b5ea-4423-a700-cd8e142de755",
   "metadata": {},
   "outputs": [],
   "source": []
  },
  {
   "cell_type": "code",
   "execution_count": null,
   "id": "18a19e11-ac56-4804-badf-043823516c9a",
   "metadata": {},
   "outputs": [],
   "source": []
  },
  {
   "cell_type": "markdown",
   "id": "1ade3dd2-1284-4c68-bdb0-1a46b399caa7",
   "metadata": {},
   "source": [
    "### hps_embedding\n",
    "\n",
    "`tritonserver --model-repository=/hps_demo/ --load-model=hps_embedding --backend-directory=/usr/local/hugectr/backends --backend-config=hps,ps=/hps_demo/hps_embedding.json --model-control-mode=explicit`\n",
    "\n",
    "`tritonserver --model-repository=/hps_demo/ --load-model=hps_embedding --backend-directory=/usr/local/hugectr/backends --backend-config=hps,ps=/hps_demo/hps_embedding.json --model-control-mode=explicit --grpc-port=8009 --http-port=8010 --metrics-port=8011`"
   ]
  },
  {
   "cell_type": "code",
   "execution_count": 78,
   "id": "842a8cac-63ba-4880-8074-ba0bdf3f5eb1",
   "metadata": {},
   "outputs": [
    {
     "name": "stdout",
     "output_type": "stream",
     "text": [
      "*   Trying 127.0.0.1:8010...\n",
      "* TCP_NODELAY set\n",
      "* Connected to localhost (127.0.0.1) port 8010 (#0)\n",
      "> GET /v2/health/ready HTTP/1.1\n",
      "> Host: localhost:8010\n",
      "> User-Agent: curl/7.68.0\n",
      "> Accept: */*\n",
      "> \n",
      "* Mark bundle as not supporting multiuse\n",
      "< HTTP/1.1 200 OK\n",
      "< Content-Length: 0\n",
      "< Content-Type: text/plain\n",
      "< \n",
      "* Connection #0 to host localhost left intact\n"
     ]
    }
   ],
   "source": [
    "!curl -v localhost:8010/v2/health/ready"
   ]
  },
  {
   "cell_type": "code",
   "execution_count": 73,
   "id": "25e57c86-d522-4df2-b0c5-5cf7b4fc888f",
   "metadata": {},
   "outputs": [
    {
     "name": "stdout",
     "output_type": "stream",
     "text": [
      "client created.\n",
      "GET /v2/health/live, headers None\n",
      "<HTTPSocketPoolResponse status=200 headers={'content-length': '0', 'content-type': 'text/plain'}>\n"
     ]
    },
    {
     "data": {
      "text/plain": [
       "True"
      ]
     },
     "execution_count": 73,
     "metadata": {},
     "output_type": "execute_result"
    }
   ],
   "source": [
    "import tritonhttpclient\n",
    "try:\n",
    "    triton_client = tritonhttpclient.InferenceServerClient(url=\"localhost:8010\", verbose=True)\n",
    "    print(\"client created.\")\n",
    "except Exception as e:\n",
    "    print(\"channel creation failed: \" + str(e))\n",
    "    \n",
    "triton_client.is_server_live()"
   ]
  },
  {
   "cell_type": "code",
   "execution_count": 74,
   "id": "d00f313e-8974-42a9-a9cb-e1a10c48dab5",
   "metadata": {},
   "outputs": [
    {
     "name": "stdout",
     "output_type": "stream",
     "text": [
      "POST /v2/repository/index, headers None\n",
      "\n",
      "<HTTPSocketPoolResponse status=200 headers={'content-type': 'application/json', 'content-length': '108'}>\n",
      "bytearray(b'[{\"name\":\"ensemble_model\"},{\"name\":\"hps_embedding\",\"version\":\"1\",\"state\":\"READY\"},{\"name\":\"tf_dense_model\"}]')\n"
     ]
    },
    {
     "data": {
      "text/plain": [
       "[{'name': 'ensemble_model'},\n",
       " {'name': 'hps_embedding', 'version': '1', 'state': 'READY'},\n",
       " {'name': 'tf_dense_model'}]"
      ]
     },
     "execution_count": 74,
     "metadata": {},
     "output_type": "execute_result"
    }
   ],
   "source": [
    "triton_client.get_model_repository_index()"
   ]
  },
  {
   "cell_type": "code",
   "execution_count": null,
   "id": "dcc67499-6185-48bd-943e-23438bac772a",
   "metadata": {},
   "outputs": [],
   "source": []
  },
  {
   "cell_type": "code",
   "execution_count": 79,
   "id": "f237db2c-5435-4913-bf83-7729e98a4e91",
   "metadata": {},
   "outputs": [
    {
     "name": "stdout",
     "output_type": "stream",
     "text": [
      "POST /v2/repository/models/hps_embedding/load, headers None\n",
      "{}\n",
      "<HTTPSocketPoolResponse status=200 headers={'content-type': 'application/json', 'content-length': '0'}>\n",
      "Loaded model 'hps_embedding'\n"
     ]
    }
   ],
   "source": [
    "model_name = \"hps_embedding\"\n",
    "triton_client.load_model(model_name=model_name)"
   ]
  },
  {
   "cell_type": "code",
   "execution_count": null,
   "id": "a0251908-d711-4840-b43f-9443f0eecd22",
   "metadata": {},
   "outputs": [],
   "source": []
  },
  {
   "cell_type": "code",
   "execution_count": 80,
   "id": "66efe4f5-4974-4a38-9aca-b39156accfa4",
   "metadata": {},
   "outputs": [],
   "source": [
    "key_tensor = np.array([[0,1,2]])\n",
    "nkey_tensor = np.array([[3]],dtype='int32')\n",
    "\n",
    "inputs = [\n",
    "    httpclient.InferInput(\"KEYS\", \n",
    "                          key_tensor.shape,\n",
    "                          np_to_triton_dtype(np.int64)),\n",
    "    httpclient.InferInput(\"NUMKEYS\", \n",
    "                          nkey_tensor.shape,\n",
    "                          np_to_triton_dtype(np.int32)),\n",
    "]\n",
    "inputs[0].set_data_from_numpy(key_tensor)\n",
    "inputs[1].set_data_from_numpy(nkey_tensor)"
   ]
  },
  {
   "cell_type": "code",
   "execution_count": 81,
   "id": "084c940b-899d-4f8a-80b7-d0734e7621fa",
   "metadata": {},
   "outputs": [],
   "source": [
    "outputs = [\n",
    "    httpclient.InferRequestedOutput(\"OUTPUT0\")  # binary_data=\n",
    "]"
   ]
  },
  {
   "cell_type": "code",
   "execution_count": 83,
   "id": "6c00569f-f56e-4fbd-a209-c07232abe9a9",
   "metadata": {},
   "outputs": [
    {
     "name": "stdout",
     "output_type": "stream",
     "text": [
      "{'model_name': 'hps_embedding', 'model_version': '1', 'parameters': {'NumSample': 1, 'DeviceID': 0}, 'outputs': [{'name': 'OUTPUT0', 'datatype': 'FP32', 'shape': [48], 'parameters': {'binary_data_size': 192}}]}\n",
      "(48,)\n",
      "Prediction Result:\n",
      "[0.20868957 0.20868957 0.20868957 0.20868957 0.20868957 0.20868957\n",
      " 0.20868957 0.20868957 0.20868957 0.20868957 0.20868957 0.20868957\n",
      " 0.20868957 0.20868957 0.20868957 0.20868957 0.25324407 0.25324407\n",
      " 0.25324407 0.25324407 0.25324407 0.25324407 0.25324407 0.25324407\n",
      " 0.25324407 0.25324407 0.25324407 0.25324407 0.25324407 0.25324407\n",
      " 0.25324407 0.25324407 0.24849838 0.24849838 0.24849838 0.24849838\n",
      " 0.24849838 0.24849838 0.24849838 0.24849838 0.24849838 0.24849838\n",
      " 0.24849838 0.24849838 0.24849838 0.24849838 0.24849838 0.24849838]\n"
     ]
    }
   ],
   "source": [
    "with httpclient.InferenceServerClient(\"localhost:8010\") as client:\n",
    "    response = client.infer(model_name,\n",
    "                            inputs,\n",
    "                            outputs=outputs)\n",
    "    result = response.get_response()\n",
    "    \n",
    "    print(result)\n",
    "    print(response.as_numpy(\"OUTPUT0\").shape)\n",
    "    print(\"Prediction Result:\")\n",
    "    print(response.as_numpy(\"OUTPUT0\"))"
   ]
  },
  {
   "cell_type": "code",
   "execution_count": null,
   "id": "41be9c01-983c-415b-8a8d-713b74c2492c",
   "metadata": {},
   "outputs": [],
   "source": []
  },
  {
   "cell_type": "code",
   "execution_count": null,
   "id": "ca1bd62b-a70e-482a-b12f-5eff222d399a",
   "metadata": {},
   "outputs": [],
   "source": []
  },
  {
   "cell_type": "markdown",
   "id": "9da18b9e-2b44-446a-bab6-69d9c47a20e7",
   "metadata": {},
   "source": [
    "### tf_dense_model\n",
    "\n",
    "need to use merlin-inference container, or user should build TIS tensorflow backend first\n",
    "\n",
    "`tritonserver --model-repository=/hps_demo/ --load-model=tf_dense_model --backend-config=tensorflow,version=2 --model-control-mode=explicit`"
   ]
  },
  {
   "cell_type": "code",
   "execution_count": 84,
   "id": "2332ddde-ccc4-4f98-93ec-aff5f1c7c9b9",
   "metadata": {},
   "outputs": [
    {
     "name": "stdout",
     "output_type": "stream",
     "text": [
      "*   Trying 127.0.0.1:8000...\n",
      "* TCP_NODELAY set\n",
      "* Connected to localhost (127.0.0.1) port 8000 (#0)\n",
      "> GET /v2/health/ready HTTP/1.1\n",
      "> Host: localhost:8000\n",
      "> User-Agent: curl/7.68.0\n",
      "> Accept: */*\n",
      "> \n",
      "* Mark bundle as not supporting multiuse\n",
      "< HTTP/1.1 200 OK\n",
      "< Content-Length: 0\n",
      "< Content-Type: text/plain\n",
      "< \n",
      "* Connection #0 to host localhost left intact\n"
     ]
    }
   ],
   "source": [
    "!curl -v localhost:8000/v2/health/ready"
   ]
  },
  {
   "cell_type": "code",
   "execution_count": 85,
   "id": "854d2e2f-3db6-43ca-991f-c65c0f50ff81",
   "metadata": {},
   "outputs": [
    {
     "name": "stdout",
     "output_type": "stream",
     "text": [
      "client created.\n",
      "GET /v2/health/live, headers None\n",
      "<HTTPSocketPoolResponse status=200 headers={'content-length': '0', 'content-type': 'text/plain'}>\n"
     ]
    },
    {
     "data": {
      "text/plain": [
       "True"
      ]
     },
     "execution_count": 85,
     "metadata": {},
     "output_type": "execute_result"
    }
   ],
   "source": [
    "import tritonhttpclient\n",
    "try:\n",
    "    triton_client = tritonhttpclient.InferenceServerClient(url=\"localhost:8000\", verbose=True)\n",
    "    print(\"client created.\")\n",
    "except Exception as e:\n",
    "    print(\"channel creation failed: \" + str(e))\n",
    "    \n",
    "triton_client.is_server_live()"
   ]
  },
  {
   "cell_type": "code",
   "execution_count": null,
   "id": "5e0bfd2c-4430-4dc3-bda9-b775a6d92162",
   "metadata": {},
   "outputs": [],
   "source": []
  },
  {
   "cell_type": "code",
   "execution_count": 86,
   "id": "199814f3-edd8-4a0b-973a-72f59ac83483",
   "metadata": {},
   "outputs": [
    {
     "name": "stdout",
     "output_type": "stream",
     "text": [
      "POST /v2/repository/index, headers None\n",
      "\n",
      "<HTTPSocketPoolResponse status=200 headers={'content-type': 'application/json', 'content-length': '108'}>\n",
      "bytearray(b'[{\"name\":\"ensemble_model\"},{\"name\":\"hps_embedding\"},{\"name\":\"tf_dense_model\",\"version\":\"1\",\"state\":\"READY\"}]')\n"
     ]
    },
    {
     "data": {
      "text/plain": [
       "[{'name': 'ensemble_model'},\n",
       " {'name': 'hps_embedding'},\n",
       " {'name': 'tf_dense_model', 'version': '1', 'state': 'READY'}]"
      ]
     },
     "execution_count": 86,
     "metadata": {},
     "output_type": "execute_result"
    }
   ],
   "source": [
    "triton_client.get_model_repository_index()"
   ]
  },
  {
   "cell_type": "code",
   "execution_count": 87,
   "id": "9d365afb-f6d2-440b-ba76-78263530b42b",
   "metadata": {},
   "outputs": [
    {
     "name": "stdout",
     "output_type": "stream",
     "text": [
      "POST /v2/repository/models/tf_dense_model/load, headers None\n",
      "{}\n",
      "<HTTPSocketPoolResponse status=200 headers={'content-type': 'application/json', 'content-length': '0'}>\n",
      "Loaded model 'tf_dense_model'\n"
     ]
    }
   ],
   "source": [
    "model_name = \"tf_dense_model\"\n",
    "triton_client.load_model(model_name=model_name)"
   ]
  },
  {
   "cell_type": "code",
   "execution_count": null,
   "id": "71c43bc6-4dd8-4b87-a296-0fb98f070f42",
   "metadata": {},
   "outputs": [],
   "source": []
  },
  {
   "cell_type": "code",
   "execution_count": 88,
   "id": "febcaa49-1a20-486e-9b8a-389f7c5bbf2b",
   "metadata": {},
   "outputs": [],
   "source": [
    "input_vector= np.random.random((16,48)).astype(np.float32)\n",
    "\n",
    "inputs = [\n",
    "    httpclient.InferInput(\"args_0\", \n",
    "                          input_vector.shape,\n",
    "                          np_to_triton_dtype(np.float32)),\n",
    "]\n",
    "inputs[0].set_data_from_numpy(input_vector)"
   ]
  },
  {
   "cell_type": "code",
   "execution_count": 89,
   "id": "8822557b-0663-4a4c-b779-1495572cfc72",
   "metadata": {},
   "outputs": [],
   "source": [
    "outputs = [\n",
    "    httpclient.InferRequestedOutput(\"fc_3\")  # binary_data=\n",
    "]"
   ]
  },
  {
   "cell_type": "code",
   "execution_count": 90,
   "id": "9b91bcf6-581c-4c2d-8f10-74a3f65ebaa4",
   "metadata": {},
   "outputs": [
    {
     "name": "stdout",
     "output_type": "stream",
     "text": [
      "{'model_name': 'tf_dense_model', 'model_version': '1', 'outputs': [{'name': 'fc_3', 'datatype': 'FP32', 'shape': [16, 1], 'parameters': {'binary_data_size': 64}}]}\n",
      "(16, 1)\n",
      "Prediction Result:\n",
      "[[5942.154 ]\n",
      " [5562.44  ]\n",
      " [5896.9277]\n",
      " [6393.83  ]\n",
      " [5681.9185]\n",
      " [5549.136 ]\n",
      " [5952.219 ]\n",
      " [6012.1567]\n",
      " [5906.5796]\n",
      " [6557.614 ]\n",
      " [5916.146 ]\n",
      " [5254.8657]\n",
      " [5245.139 ]\n",
      " [5265.368 ]\n",
      " [6218.0913]\n",
      " [5348.871 ]]\n"
     ]
    }
   ],
   "source": [
    "with httpclient.InferenceServerClient(\"localhost:8000\") as client:\n",
    "    response = client.infer(model_name,\n",
    "                            inputs,\n",
    "                            outputs=outputs)\n",
    "    result = response.get_response()\n",
    "    \n",
    "    print(result)\n",
    "    print(response.as_numpy(\"fc_3\").shape)\n",
    "    print(\"Prediction Result:\")\n",
    "    print(response.as_numpy(\"fc_3\"))"
   ]
  },
  {
   "cell_type": "code",
   "execution_count": null,
   "id": "3ca5489c-dfac-4350-86f2-499bdd999276",
   "metadata": {},
   "outputs": [],
   "source": []
  },
  {
   "cell_type": "code",
   "execution_count": null,
   "id": "a65b6171-7fb9-4a01-bf7a-e9b85a743312",
   "metadata": {},
   "outputs": [],
   "source": []
  },
  {
   "cell_type": "code",
   "execution_count": null,
   "id": "ce227ed5-bfbc-4e0d-a3a9-1b5c7d0380e3",
   "metadata": {},
   "outputs": [],
   "source": []
  },
  {
   "cell_type": "code",
   "execution_count": null,
   "id": "54ed7042-6f13-4086-83ea-f7c8fb16a7d2",
   "metadata": {},
   "outputs": [],
   "source": [
    "name: \"ensemble_name\"\n",
    "platform: \"ensemble\"\n",
    "max_batch_size: 1\n",
    "input [\n",
    "  {\n",
    "    name: \"INPUT\"\n",
    "    data_type: TYPE_FP32\n",
    "    dims: [ 0, 0, 0 ]\n",
    "  }\n",
    "]\n",
    "output [\n",
    "  {\n",
    "    name: \"OUTPUT\"\n",
    "    data_type: TYPE_FP32\n",
    "    dims: [ 0, 0 ]\n",
    "  }\n",
    "]\n",
    "\n",
    "ensemble_scheduling {\n",
    "  step [\n",
    "    {\n",
    "      model_name: \"MODEL1\"\n",
    "      model_version: -1\n",
    "      input_map {\n",
    "        key: \"INPUT\"\n",
    "        value: \"INPUT\"\n",
    "      }\n",
    "      output_map {\n",
    "        key: \"OUTPUT\"\n",
    "        value: \"OUTPUT\"\n",
    "      }\n",
    "    },\n",
    "    {\n",
    "      model_name: \"MODEL2\"\n",
    "      model_version: -1\n",
    "      input_map {\n",
    "        key: \"INPUT\"\n",
    "        value: \"INPUT\"\n",
    "      }\n",
    "      output_map {\n",
    "        key: \"OUTPUT\"\n",
    "        value: \"OUTPUT\"\n",
    "      }\n",
    "    }\n",
    "  ]\n",
    "}"
   ]
  },
  {
   "cell_type": "code",
   "execution_count": null,
   "id": "78e138c6-79d6-4cc0-9683-4a4c4a84524b",
   "metadata": {},
   "outputs": [],
   "source": []
  },
  {
   "cell_type": "code",
   "execution_count": null,
   "id": "bdb69a70-7fed-4242-8217-4cbd8521f414",
   "metadata": {},
   "outputs": [],
   "source": []
  }
 ],
 "metadata": {
  "kernelspec": {
   "display_name": "Python 3 (ipykernel)",
   "language": "python",
   "name": "python3"
  },
  "language_info": {
   "codemirror_mode": {
    "name": "ipython",
    "version": 3
   },
   "file_extension": ".py",
   "mimetype": "text/x-python",
   "name": "python",
   "nbconvert_exporter": "python",
   "pygments_lexer": "ipython3",
   "version": "3.8.10"
  }
 },
 "nbformat": 4,
 "nbformat_minor": 5
}
