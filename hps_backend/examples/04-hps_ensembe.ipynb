{
 "cells": [
  {
   "cell_type": "code",
   "execution_count": 1,
   "id": "e6a3657a-d838-4843-8652-63ad0320ed26",
   "metadata": {},
   "outputs": [],
   "source": [
    "# External dependencies\n",
    "import os\n",
    "from time import time\n",
    "\n",
    "# Get dataframe library - cudf or pandas\n",
    "from merlin.core.dispatch import get_lib\n",
    "df_lib = get_lib()\n",
    "\n",
    "import tritonclient.grpc as grpcclient"
   ]
  },
  {
   "cell_type": "code",
   "execution_count": 2,
   "id": "b230492b-c7b2-48a7-8d74-62b68ac6408d",
   "metadata": {},
   "outputs": [],
   "source": [
    "# from hugectr.inference import InferenceParams, CreateInferenceSession"
   ]
  },
  {
   "cell_type": "code",
   "execution_count": null,
   "id": "b017d613-0f11-40d7-87b4-a21ee45b2ba8",
   "metadata": {},
   "outputs": [],
   "source": []
  },
  {
   "cell_type": "code",
   "execution_count": 3,
   "id": "825bb107-5271-4033-8c7e-d0ed90828785",
   "metadata": {},
   "outputs": [
    {
     "name": "stdout",
     "output_type": "stream",
     "text": [
      "client created.\n"
     ]
    },
    {
     "name": "stderr",
     "output_type": "stream",
     "text": [
      "/usr/local/lib/python3.8/dist-packages/tritonhttpclient/__init__.py:31: DeprecationWarning: The package `tritonhttpclient` is deprecated and will be removed in a future version. Please use instead `tritonclient.http`\n",
      "  warnings.warn(\n"
     ]
    }
   ],
   "source": [
    "import tritonhttpclient\n",
    "\n",
    "try:\n",
    "    triton_client = tritonhttpclient.InferenceServerClient(url=\"10.19.60.80:8000\", verbose=True)\n",
    "    print(\"client created.\")\n",
    "except Exception as e:\n",
    "    print(\"channel creation failed: \" + str(e))"
   ]
  },
  {
   "cell_type": "code",
   "execution_count": 4,
   "id": "3bb79af4-4821-462e-8621-6c237dfeb74b",
   "metadata": {},
   "outputs": [],
   "source": [
    "import warnings\n",
    "warnings.filterwarnings(\"ignore\")"
   ]
  },
  {
   "cell_type": "code",
   "execution_count": 5,
   "id": "fdc00e33-2f61-47fa-a3db-e888a0a40444",
   "metadata": {},
   "outputs": [
    {
     "name": "stdout",
     "output_type": "stream",
     "text": [
      "GET /v2/health/live, headers None\n",
      "<HTTPSocketPoolResponse status=200 headers={'content-length': '0', 'content-type': 'text/plain'}>\n"
     ]
    },
    {
     "data": {
      "text/plain": [
       "True"
      ]
     },
     "execution_count": 5,
     "metadata": {},
     "output_type": "execute_result"
    }
   ],
   "source": [
    "triton_client.is_server_live()"
   ]
  },
  {
   "cell_type": "code",
   "execution_count": 6,
   "id": "e68d6991-42ec-41e0-96c4-3292c05b66bb",
   "metadata": {},
   "outputs": [
    {
     "name": "stdout",
     "output_type": "stream",
     "text": [
      "POST /v2/repository/index, headers None\n",
      "\n",
      "<HTTPSocketPoolResponse status=200 headers={'content-type': 'application/json', 'content-length': '50'}>\n",
      "bytearray(b'[{\"name\":\"hps_wdl\",\"version\":\"1\",\"state\":\"READY\"}]')\n"
     ]
    },
    {
     "data": {
      "text/plain": [
       "[{'name': 'hps_wdl', 'version': '1', 'state': 'READY'}]"
      ]
     },
     "execution_count": 6,
     "metadata": {},
     "output_type": "execute_result"
    }
   ],
   "source": [
    "triton_client.get_model_repository_index()"
   ]
  },
  {
   "cell_type": "code",
   "execution_count": null,
   "id": "7312ed38-8eff-4176-b3de-aaca9f1d10b7",
   "metadata": {},
   "outputs": [],
   "source": []
  },
  {
   "cell_type": "code",
   "execution_count": 7,
   "id": "6a5a662c-d77b-4217-be4c-0e2eaa05d043",
   "metadata": {},
   "outputs": [
    {
     "name": "stdout",
     "output_type": "stream",
     "text": [
      "POST /v2/repository/models/hps_wdl/load, headers None\n",
      "{}\n",
      "<HTTPSocketPoolResponse status=200 headers={'content-type': 'application/json', 'content-length': '0'}>\n",
      "Loaded model 'hps_wdl'\n",
      "CPU times: user 397 µs, sys: 467 µs, total: 864 µs\n",
      "Wall time: 521 µs\n"
     ]
    }
   ],
   "source": [
    "%%time\n",
    "triton_client.load_model(model_name=\"hps_wdl\")"
   ]
  },
  {
   "cell_type": "code",
   "execution_count": null,
   "id": "7e454e66-de18-45a9-bf5f-83defa34a8a2",
   "metadata": {},
   "outputs": [],
   "source": []
  },
  {
   "cell_type": "code",
   "execution_count": 14,
   "id": "6650b607-8fc0-490f-80ce-36db577c9889",
   "metadata": {},
   "outputs": [
    {
     "name": "stdout",
     "output_type": "stream",
     "text": [
      "\u001b[01;34m/hps_infer/embedding\u001b[00m\n",
      "├── hps.json\n",
      "├── \u001b[01;34mhps_ensemble\u001b[00m\n",
      "│   └── \u001b[01;34m1\u001b[00m\n",
      "├── \u001b[01;34mhps_torch\u001b[00m\n",
      "│   └── \u001b[01;34m1\u001b[00m\n",
      "└── \u001b[01;34mhps_wdl\u001b[00m\n",
      "    ├── \u001b[01;34m1\u001b[00m\n",
      "    │   ├── \u001b[01;34mwdl0_sparse_20000.model\u001b[00m\n",
      "    │   │   ├── emb_vector\n",
      "    │   │   ├── key\n",
      "    │   │   ├── wdl0_sparse_20000.model.key\n",
      "    │   │   └── wdl0_sparse_20000.model.vec\n",
      "    │   └── \u001b[01;34mwdl1_sparse_20000.model\u001b[00m\n",
      "    │       ├── emb_vector\n",
      "    │       ├── key\n",
      "    │       ├── wdl1_sparse_20000.model.key\n",
      "    │       └── wdl1_sparse_20000.model.vec\n",
      "    └── config.pbtxt\n",
      "\n",
      "8 directories, 10 files\n"
     ]
    }
   ],
   "source": [
    "!tree /hps_infer/embedding"
   ]
  },
  {
   "cell_type": "code",
   "execution_count": null,
   "id": "b1d7dfdf-03cf-48ee-918f-fe6f9f62cc8c",
   "metadata": {},
   "outputs": [],
   "source": []
  },
  {
   "cell_type": "code",
   "execution_count": null,
   "id": "264a2a0f-e356-4a57-bc96-565c97720256",
   "metadata": {},
   "outputs": [],
   "source": []
  },
  {
   "cell_type": "code",
   "execution_count": null,
   "id": "575ffc19-4933-4e8b-97d7-e2d7ef9f3382",
   "metadata": {},
   "outputs": [],
   "source": []
  },
  {
   "cell_type": "code",
   "execution_count": null,
   "id": "83ee1eb8-ad04-4d99-b809-ee43f71fdd0f",
   "metadata": {},
   "outputs": [],
   "source": []
  },
  {
   "cell_type": "code",
   "execution_count": null,
   "id": "63063f12-f3b0-4822-bf0a-262bfe9674f2",
   "metadata": {},
   "outputs": [],
   "source": [
    "# model_name = 'wdl'\n",
    "CATEGORICAL_COLUMNS=[\"C1_C2\",\"C3_C4\"]+[\"C\" + str(x) for x in range(1, 27)]\n",
    "CONTINUOUS_COLUMNS=[\"I\" + str(x) for x in range(1, 14)]\n",
    "LABEL_COLUMNS = ['label']\n",
    "# emb_size_array = [278018, 415262,249058, 19561, 14212, 6890, 18592, 4, 6356, 1254, 52, 226170, 80508, 72308, 11, 2169, 7597, 61, 4, 923, 15, 249619, 168974, 243480, 68212, 9169, 75, 34]\n",
    "# shift = np.insert(np.cumsum(emb_size_array), 0, 0)[:-1]\n",
    "# test_df=pd.read_csv(\"/wdl_infer/infer_test.csv\",sep=',')"
   ]
  },
  {
   "cell_type": "code",
   "execution_count": null,
   "id": "cbf44c86-ca8d-406c-be05-b5e2187898e8",
   "metadata": {},
   "outputs": [],
   "source": [
    "# read in the workflow (to get input/output schema to call triton with)\n",
    "batch = df_lib.read_parquet(\n",
    "    os.path.join(INPUT_DATA_DIR, \"part_0.parquet\"), num_rows=5, columns=[\"\"]\n",
    ")\n",
    "print(batch)"
   ]
  },
  {
   "cell_type": "code",
   "execution_count": null,
   "id": "f3b3159f-7b45-45b7-be2a-9f0829a2b589",
   "metadata": {},
   "outputs": [],
   "source": []
  },
  {
   "cell_type": "code",
   "execution_count": null,
   "id": "d6109bc9-9106-4807-83fb-529e0eea9f18",
   "metadata": {},
   "outputs": [],
   "source": []
  },
  {
   "cell_type": "code",
   "execution_count": null,
   "id": "90ec486b-f84c-47dc-89e2-dc9a2849997d",
   "metadata": {},
   "outputs": [],
   "source": []
  },
  {
   "cell_type": "code",
   "execution_count": null,
   "id": "a6a3c0fb-403c-4b0d-b4b4-82f6ee1308ec",
   "metadata": {},
   "outputs": [],
   "source": []
  }
 ],
 "metadata": {
  "kernelspec": {
   "display_name": "Python 3 (ipykernel)",
   "language": "python",
   "name": "python3"
  },
  "language_info": {
   "codemirror_mode": {
    "name": "ipython",
    "version": 3
   },
   "file_extension": ".py",
   "mimetype": "text/x-python",
   "name": "python",
   "nbconvert_exporter": "python",
   "pygments_lexer": "ipython3",
   "version": "3.8.10"
  }
 },
 "nbformat": 4,
 "nbformat_minor": 5
}
