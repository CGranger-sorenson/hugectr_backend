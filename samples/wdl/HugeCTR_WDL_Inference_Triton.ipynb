{
 "cells": [
  {
   "cell_type": "code",
   "execution_count": 1,
   "id": "bc6fc598",
   "metadata": {},
   "outputs": [],
   "source": [
    "# Copyright 2021 NVIDIA Corporation. All Rights Reserved.\n",
    "#\n",
    "# Licensed under the Apache License, Version 2.0 (the \"License\");\n",
    "# you may not use this file except in compliance with the License.\n",
    "# You may obtain a copy of the License at\n",
    "#\n",
    "#     http://www.apache.org/licenses/LICENSE-2.0\n",
    "#\n",
    "# Unless required by applicable law or agreed to in writing, software\n",
    "# distributed under the License is distributed on an \"AS IS\" BASIS,\n",
    "# WITHOUT WARRANTIES OR CONDITIONS OF ANY KIND, either express or implied.\n",
    "# See the License for the specific language governing permissions and\n",
    "# limitations under the License.\n",
    "# =============================================================================="
   ]
  },
  {
   "cell_type": "markdown",
   "id": "f31ce4bd",
   "metadata": {},
   "source": [
    "# 1.Overview"
   ]
  },
  {
   "cell_type": "markdown",
   "id": "9195772a",
   "metadata": {},
   "source": [
    "In this notebook, we want to provide a tutorial about how to make inference using HugeCTR trained WDL model. And we can collect the inference benchmark by Triton performance analyzer tool."
   ]
  },
  {
   "cell_type": "markdown",
   "id": "261b2fa6",
   "metadata": {},
   "source": [
    "1. Overview\n",
    "2. Generate the WDL deployment Configuration\n",
    "3. Load Models on the Triton Server\n",
    "4. Prepare Inference Input Data \n",
    "5. Inference Benchmarm by Triton Performance Tool"
   ]
  },
  {
   "cell_type": "markdown",
   "id": "00743d8d",
   "metadata": {},
   "source": [
    "# 2. Generate the WDL Deployment Configuration"
   ]
  },
  {
   "cell_type": "markdown",
   "id": "37b8f7fc",
   "metadata": {},
   "source": [
    "## 2.1 Generate related model folders"
   ]
  },
  {
   "cell_type": "code",
   "execution_count": 2,
   "id": "ca0e1a04",
   "metadata": {},
   "outputs": [],
   "source": [
    "# define some data folder to store the model related files\n",
    "# Standard Libraries\n",
    "import os\n",
    "from time import time\n",
    "import re\n",
    "import shutil\n",
    "import glob\n",
    "import warnings\n",
    "\n",
    "BASE_DIR = \"wdl_infer\"\n",
    "model_folder  = os.path.join(BASE_DIR, \"model\")\n",
    "wdl_model_repo= os.path.join(model_folder, \"wdl\")\n",
    "wdl_version =os.path.join(wdl_model_repo, \"1\")\n",
    "\n",
    "if os.path.isdir(model_folder):\n",
    "    shutil.rmtree(model_folder)\n",
    "os.makedirs(model_folder)\n",
    "\n",
    "if os.path.isdir(wdl_model_repo):\n",
    "    shutil.rmtree(wdl_model_repo)\n",
    "os.makedirs(wdl_model_repo)\n",
    "\n",
    "if os.path.isdir(wdl_version):\n",
    "    shutil.rmtree(wdl_version)\n",
    "os.makedirs(wdl_version)"
   ]
  },
  {
   "cell_type": "markdown",
   "id": "f54be6b7",
   "metadata": {},
   "source": [
    "## 2.2 Copy WDL model files and configuration to model repository"
   ]
  },
  {
   "cell_type": "code",
   "execution_count": 3,
   "id": "0f2919ed",
   "metadata": {},
   "outputs": [
    {
     "name": "stdout",
     "output_type": "stream",
     "text": [
      "total 5840\n",
      "drwxr-xr-x 2 root root    4096 Jun 28 05:48 wdl0_sparse_2000.model\n",
      "drwxr-xr-x 2 root root    4096 Jun 28 05:48 wdl1_sparse_2000.model\n",
      "-rw-r--r-- 1 root root 5963780 Jun 28 05:48 wdl_dense_2000.model\n",
      "-rw-r--r-- 1 root root    3158 Jun 28 05:48 wdl_infer.json\n"
     ]
    }
   ],
   "source": [
    "!cp -r wdl_train/wdl0_sparse_2000.model $wdl_version/\n",
    "!cp -r wdl_train/wdl1_sparse_2000.model $wdl_version/\n",
    "!cp -r wdl_train/wdl_dense_2000.model $wdl_version/\n",
    "!cp wdl_train/wdl_infer.json $wdl_version/\n",
    "!ls -l $wdl_version"
   ]
  },
  {
   "cell_type": "markdown",
   "id": "8fdb7498",
   "metadata": {},
   "source": [
    "## 2.3 Generate the Triton configuration for deploying WDL"
   ]
  },
  {
   "cell_type": "code",
   "execution_count": 14,
   "id": "ffbb4a8d",
   "metadata": {},
   "outputs": [
    {
     "name": "stdout",
     "output_type": "stream",
     "text": [
      "Overwriting wdl_infer/model/wdl/config.pbtxt\n"
     ]
    }
   ],
   "source": [
    "%%writefile wdl_infer/model/wdl/config.pbtxt\n",
    "name: \"wdl\"\n",
    "backend: \"hugectr\"\n",
    "max_batch_size:1,\n",
    "input [\n",
    "   {\n",
    "    name: \"DES\"\n",
    "    data_type: TYPE_FP32\n",
    "    dims: [ -1 ]\n",
    "  },\n",
    "  {\n",
    "    name: \"CATCOLUMN\"\n",
    "    data_type: TYPE_INT64\n",
    "    dims: [ -1 ]\n",
    "  },\n",
    "  {\n",
    "    name: \"ROWINDEX\"\n",
    "    data_type: TYPE_INT32\n",
    "    dims: [ -1 ]\n",
    "  }\n",
    "]\n",
    "output [\n",
    "  {\n",
    "    name: \"OUTPUT0\"\n",
    "    data_type: TYPE_FP32\n",
    "    dims: [ -1 ]\n",
    "  }\n",
    "]\n",
    "instance_group [\n",
    "  {\n",
    "    count: 1\n",
    "    kind : KIND_GPU\n",
    "    gpus:[0]\n",
    "  }\n",
    "]\n",
    "\n",
    "parameters [\n",
    "  {\n",
    "  key: \"config\"\n",
    "  value: { string_value: \"/wdl_infer/model/wdl/1/wdl.json\" }\n",
    "  },\n",
    "  {\n",
    "  key: \"gpucache\"\n",
    "  value: { string_value: \"true\" }\n",
    "  },\n",
    "  {\n",
    "  key: \"hit_rate_threshold\"\n",
    "  value: { string_value: \"0.8\" }\n",
    "  },\n",
    "  {\n",
    "  key: \"gpucacheper\"\n",
    "  value: { string_value: \"0.5\" }\n",
    "  },\n",
    "  {\n",
    "  key: \"label_dim\"\n",
    "  value: { string_value: \"1\" }\n",
    "  },\n",
    "  {\n",
    "  key: \"slots\"\n",
    "  value: { string_value: \"28\" }\n",
    "  },\n",
    "  {\n",
    "  key: \"cat_feature_num\"\n",
    "  value: { string_value: \"28\" }\n",
    "  },\n",
    " {\n",
    "  key: \"des_feature_num\"\n",
    "  value: { string_value: \"13\" }\n",
    "  },\n",
    "  {\n",
    "  key: \"max_nnz\"\n",
    "  value: { string_value: \"2\" }\n",
    "  },\n",
    "  {\n",
    "  key: \"embedding_vector_size\"\n",
    "  value: { string_value: \"128\" }\n",
    "  },\n",
    "  {\n",
    "  key: \"embeddingkey_long_type\"\n",
    "  value: { string_value: \"true\" }\n",
    "  }\n",
    "]"
   ]
  },
  {
   "cell_type": "markdown",
   "id": "0beeccff",
   "metadata": {},
   "source": [
    "## 2.4 Generate the Hugectr Backend parameter server configuration for deploying wdl"
   ]
  },
  {
   "cell_type": "code",
   "execution_count": 5,
   "id": "32b56a90",
   "metadata": {},
   "outputs": [
    {
     "name": "stdout",
     "output_type": "stream",
     "text": [
      "Writing wdl_infer/model/ps.json\n"
     ]
    }
   ],
   "source": [
    "%%writefile wdl_infer/model/ps.json\n",
    "{\n",
    "    \"supportlonglong\":true,\n",
    "    \"models\":[\n",
    "        {\n",
    "            \"model\":\"wdl\",\n",
    "            \"sparse_files\":[\"wdl_infer/model/wdl/1/wdl0_sparse_2000.model\", \"wdl_train/model/wdl/1/wdl1_sparse_2000.model\"],\n",
    "            \"dense_file\":\"wdl_infer/model/wdl/1/wdl_dense_2000.model\",\n",
    "            \"network_file\":\"wdl_infer/model/wdl/1/wdl.json\"\n",
    "        }\n",
    "    ]  \n",
    "}"
   ]
  },
  {
   "cell_type": "markdown",
   "id": "b7083eaa-7358-45b7-a87c-e7e488528351",
   "metadata": {},
   "source": [
    "# 3.Deploy WDL on Triton Server "
   ]
  },
  {
   "cell_type": "code",
   "execution_count": null,
   "id": "3710d830-6143-4603-8ef4-8c1035334fe9",
   "metadata": {},
   "outputs": [],
   "source": []
  },
  {
   "cell_type": "markdown",
   "id": "4699adba-a005-4e24-8459-255d30d4dde9",
   "metadata": {},
   "source": [
    "# 4. Prepare Inference Input Data"
   ]
  },
  {
   "cell_type": "markdown",
   "id": "2d27d33d-f94f-4052-925e-a01812c5cd3f",
   "metadata": {},
   "source": [
    "### 4.1 Read validation data"
   ]
  },
  {
   "cell_type": "code",
   "execution_count": 20,
   "id": "120a3b5c-c949-463a-835f-2e8e0a33f9c9",
   "metadata": {},
   "outputs": [
    {
     "name": "stdout",
     "output_type": "stream",
     "text": [
      "total 760208\n",
      "-rw-r--r-- 1 root root 125742229 Jun 28 06:11 0.57bb2e5fca5f4dc1aace4ce9ad531a2d.parquet\n",
      "-rw-r--r-- 1 root root 142891704 Jun 28 06:48 0.db790513beb041569f47f5cdcb047f9b.parquet\n",
      "-rw-r--r-- 1 root root        59 Jun 28 06:48 _file_list.txt\n",
      "-rw-r--r-- 1 root root     27701 Jun 28 06:48 _metadata\n",
      "-rw-r--r-- 1 root root      1537 Jun 28 06:48 _metadata.json\n",
      "drwxr-xr-x 2 root root      4096 Jun 28 06:46 temp-parquet-after-conversion\n",
      "-rw-r--r-- 1 root root 509766965 Jun 25 08:07 test.txt\n"
     ]
    }
   ],
   "source": [
    "!ls -l wdl_train/val"
   ]
  },
  {
   "cell_type": "code",
   "execution_count": 21,
   "id": "4e299320-44c8-4853-b5d4-62a583505fc3",
   "metadata": {},
   "outputs": [],
   "source": [
    "import pandas as pd\n",
    "df = pd.read_parquet(\"wdl_train/val/0.db790513beb041569f47f5cdcb047f9b.parquet\")"
   ]
  },
  {
   "cell_type": "code",
   "execution_count": 22,
   "id": "469c663d-f159-44cb-8ac3-fae0b1160b06",
   "metadata": {},
   "outputs": [
    {
     "data": {
      "text/html": [
       "<div>\n",
       "<style scoped>\n",
       "    .dataframe tbody tr th:only-of-type {\n",
       "        vertical-align: middle;\n",
       "    }\n",
       "\n",
       "    .dataframe tbody tr th {\n",
       "        vertical-align: top;\n",
       "    }\n",
       "\n",
       "    .dataframe thead th {\n",
       "        text-align: right;\n",
       "    }\n",
       "</style>\n",
       "<table border=\"1\" class=\"dataframe\">\n",
       "  <thead>\n",
       "    <tr style=\"text-align: right;\">\n",
       "      <th></th>\n",
       "      <th>I1</th>\n",
       "      <th>I2</th>\n",
       "      <th>I3</th>\n",
       "      <th>I4</th>\n",
       "      <th>I5</th>\n",
       "      <th>I6</th>\n",
       "      <th>I7</th>\n",
       "      <th>I8</th>\n",
       "      <th>I9</th>\n",
       "      <th>I10</th>\n",
       "      <th>...</th>\n",
       "      <th>C17</th>\n",
       "      <th>C18</th>\n",
       "      <th>C19</th>\n",
       "      <th>C20</th>\n",
       "      <th>C21</th>\n",
       "      <th>C22</th>\n",
       "      <th>C23</th>\n",
       "      <th>C24</th>\n",
       "      <th>C25</th>\n",
       "      <th>C26</th>\n",
       "    </tr>\n",
       "  </thead>\n",
       "  <tbody>\n",
       "    <tr>\n",
       "      <th>0</th>\n",
       "      <td>-0.008003</td>\n",
       "      <td>-0.544749</td>\n",
       "      <td>-0.487016</td>\n",
       "      <td>-0.157301</td>\n",
       "      <td>-0.224758</td>\n",
       "      <td>-0.206385</td>\n",
       "      <td>-0.064249</td>\n",
       "      <td>-0.281810</td>\n",
       "      <td>-0.687732</td>\n",
       "      <td>-0.470383</td>\n",
       "      <td>...</td>\n",
       "      <td>1</td>\n",
       "      <td>666</td>\n",
       "      <td>5</td>\n",
       "      <td>0</td>\n",
       "      <td>0</td>\n",
       "      <td>0</td>\n",
       "      <td>32831</td>\n",
       "      <td>8098</td>\n",
       "      <td>10</td>\n",
       "      <td>28</td>\n",
       "    </tr>\n",
       "    <tr>\n",
       "      <th>1</th>\n",
       "      <td>0.032786</td>\n",
       "      <td>-0.475468</td>\n",
       "      <td>1.229957</td>\n",
       "      <td>-0.088692</td>\n",
       "      <td>-0.131771</td>\n",
       "      <td>-0.206385</td>\n",
       "      <td>-0.064249</td>\n",
       "      <td>-0.271376</td>\n",
       "      <td>0.469060</td>\n",
       "      <td>-0.470383</td>\n",
       "      <td>...</td>\n",
       "      <td>2</td>\n",
       "      <td>666</td>\n",
       "      <td>10</td>\n",
       "      <td>0</td>\n",
       "      <td>147138</td>\n",
       "      <td>0</td>\n",
       "      <td>22292</td>\n",
       "      <td>3629</td>\n",
       "      <td>12</td>\n",
       "      <td>5</td>\n",
       "    </tr>\n",
       "    <tr>\n",
       "      <th>2</th>\n",
       "      <td>-0.059432</td>\n",
       "      <td>1.911341</td>\n",
       "      <td>-0.272394</td>\n",
       "      <td>-0.088692</td>\n",
       "      <td>8.887988</td>\n",
       "      <td>1.442828</td>\n",
       "      <td>1.953991</td>\n",
       "      <td>-0.279201</td>\n",
       "      <td>0.541359</td>\n",
       "      <td>1.386036</td>\n",
       "      <td>...</td>\n",
       "      <td>0</td>\n",
       "      <td>666</td>\n",
       "      <td>10</td>\n",
       "      <td>69747</td>\n",
       "      <td>76381</td>\n",
       "      <td>207280</td>\n",
       "      <td>0</td>\n",
       "      <td>3602</td>\n",
       "      <td>73</td>\n",
       "      <td>22</td>\n",
       "    </tr>\n",
       "    <tr>\n",
       "      <th>3</th>\n",
       "      <td>-0.055886</td>\n",
       "      <td>0.884347</td>\n",
       "      <td>-0.272394</td>\n",
       "      <td>-0.157301</td>\n",
       "      <td>-0.069780</td>\n",
       "      <td>-0.206385</td>\n",
       "      <td>-0.064249</td>\n",
       "      <td>-0.148777</td>\n",
       "      <td>-0.326234</td>\n",
       "      <td>-0.470383</td>\n",
       "      <td>...</td>\n",
       "      <td>3</td>\n",
       "      <td>575</td>\n",
       "      <td>12</td>\n",
       "      <td>20820</td>\n",
       "      <td>99774</td>\n",
       "      <td>20188</td>\n",
       "      <td>56495</td>\n",
       "      <td>7153</td>\n",
       "      <td>10</td>\n",
       "      <td>27</td>\n",
       "    </tr>\n",
       "    <tr>\n",
       "      <th>4</th>\n",
       "      <td>-0.057659</td>\n",
       "      <td>-0.465958</td>\n",
       "      <td>0.371471</td>\n",
       "      <td>-0.157301</td>\n",
       "      <td>-0.224758</td>\n",
       "      <td>-0.206385</td>\n",
       "      <td>-0.064249</td>\n",
       "      <td>-0.279201</td>\n",
       "      <td>0.035263</td>\n",
       "      <td>-0.470383</td>\n",
       "      <td>...</td>\n",
       "      <td>0</td>\n",
       "      <td>666</td>\n",
       "      <td>2</td>\n",
       "      <td>69747</td>\n",
       "      <td>76381</td>\n",
       "      <td>207280</td>\n",
       "      <td>0</td>\n",
       "      <td>5421</td>\n",
       "      <td>12</td>\n",
       "      <td>22</td>\n",
       "    </tr>\n",
       "  </tbody>\n",
       "</table>\n",
       "<p>5 rows × 42 columns</p>\n",
       "</div>"
      ],
      "text/plain": [
       "         I1        I2        I3        I4        I5        I6        I7  \\\n",
       "0 -0.008003 -0.544749 -0.487016 -0.157301 -0.224758 -0.206385 -0.064249   \n",
       "1  0.032786 -0.475468  1.229957 -0.088692 -0.131771 -0.206385 -0.064249   \n",
       "2 -0.059432  1.911341 -0.272394 -0.088692  8.887988  1.442828  1.953991   \n",
       "3 -0.055886  0.884347 -0.272394 -0.157301 -0.069780 -0.206385 -0.064249   \n",
       "4 -0.057659 -0.465958  0.371471 -0.157301 -0.224758 -0.206385 -0.064249   \n",
       "\n",
       "         I8        I9       I10  ...  C17  C18  C19    C20     C21     C22  \\\n",
       "0 -0.281810 -0.687732 -0.470383  ...    1  666    5      0       0       0   \n",
       "1 -0.271376  0.469060 -0.470383  ...    2  666   10      0  147138       0   \n",
       "2 -0.279201  0.541359  1.386036  ...    0  666   10  69747   76381  207280   \n",
       "3 -0.148777 -0.326234 -0.470383  ...    3  575   12  20820   99774   20188   \n",
       "4 -0.279201  0.035263 -0.470383  ...    0  666    2  69747   76381  207280   \n",
       "\n",
       "     C23   C24  C25  C26  \n",
       "0  32831  8098   10   28  \n",
       "1  22292  3629   12    5  \n",
       "2      0  3602   73   22  \n",
       "3  56495  7153   10   27  \n",
       "4      0  5421   12   22  \n",
       "\n",
       "[5 rows x 42 columns]"
      ]
     },
     "execution_count": 22,
     "metadata": {},
     "output_type": "execute_result"
    }
   ],
   "source": [
    "df.head()"
   ]
  },
  {
   "cell_type": "code",
   "execution_count": 23,
   "id": "887a1af1-7ff2-472a-a25b-d40f63965663",
   "metadata": {},
   "outputs": [],
   "source": [
    "df.head(200000).to_csv('wdl_infer/infer_test.txt', sep='\\t', index=False,header=True)"
   ]
  },
  {
   "cell_type": "markdown",
   "id": "662c299a-4c09-4f59-a621-1f922b3e1d85",
   "metadata": {},
   "source": [
    "## 4.2 Follow the Triton requirements to generate input data with json format"
   ]
  },
  {
   "cell_type": "code",
   "execution_count": 13,
   "id": "98c03e96-396f-4333-9106-fe340b525bed",
   "metadata": {},
   "outputs": [
    {
     "name": "stdout",
     "output_type": "stream",
     "text": [
      "Writing wdl_infer/criteo2predict.py\n"
     ]
    }
   ],
   "source": [
    "%%writefile wdl_infer/criteo2predict.py\n",
    "import argparse\n",
    "import sys\n",
    "import numpy as np\n",
    "import pandas as pd\n",
    "import json\n",
    "import pickle\n",
    "\n",
    "def parse_config(src_config):\n",
    "    try:\n",
    "        with open(src_config, 'r') as data_json:\n",
    "            j_data = json.load(data_json)\n",
    "            dense_dim = j_data[\"dense\"]\n",
    "            categorical_dim = j_data[\"categorical\"]\n",
    "            slot_size = j_data[\"slot_size\"]\n",
    "        assert(categorical_dim == np.sum(slot_size))\n",
    "        return dense_dim, categorical_dim, slot_size\n",
    "    except:\n",
    "        print(\"Invalid data configuration file!\")\n",
    "\n",
    "def convert(src_csv, src_config, dst, batch_size, segmentation):\n",
    "    dense_dim, categorical_dim, slot_size = parse_config(src_config)\n",
    "    slot_size_array=[249058, 19561, 14212, 6890, 18592, 4, 6356, 1254, 52, \\\n",
    "                     226170, 80508, 72308, 11, 2169, 7597, 61, 4, 923, 15, 249619, 168974, 243480, 68212, 9169, 75, 34, 278018, 415262]\n",
    "    offset = np.insert(np.cumsum(slot_size_array), 0, 0)[:-1]\n",
    "    total_columns = 1 + dense_dim + categorical_dim\n",
    "    df = pd.read_csv(src_csv,  sep='\\t', nrows=batch_size)\n",
    "    cols = df.columns\n",
    "    slot_num = len(slot_size)\n",
    "    row_ptrs = [0 for _ in range(batch_size*slot_num + 1)]\n",
    "    for i in range(1, len(row_ptrs)):\n",
    "        row_ptrs[i] = row_ptrs[i-1] + slot_size[(i-1)%slot_num]\n",
    "    label_df =  pd.DataFrame(df['label'].values.reshape(1,batch_size))\n",
    "    dense_df = pd.DataFrame(df[['I'+str(i+1) for i in range(dense_dim)]].values.reshape(1, batch_size*dense_dim))\n",
    "    embedding_columns_df = pd.DataFrame(df[['C'+str(i+1) for i in range(categorical_dim)]].values.reshape(1, batch_size*categorical_dim))\n",
    "    row_ptrs_df = pd.DataFrame(np.array(row_ptrs).reshape(1, batch_size*slot_num + 1))\n",
    "    with open(dst, 'w') as dst_txt:\n",
    "        dst_txt.write(\"{\\n\\\"data\\\":[\\n{\\n\")\n",
    "        dst_txt.write(\"\\\"DES\\\":\")\n",
    "        dst_txt.write(','.join('%s' %id for id in dense_df.values.tolist()))\n",
    "        dst_txt.write(\",\\n\\\"CATCOLUMN\\\":\")\n",
    "        dst_txt.write(','.join('%s' %id for id in (embedding_columns_df.values.reshape(-1,26)+offset).reshape(1,-1).tolist()))\n",
    "        dst_txt.write(\",\\n\\\"ROWINDEX\\\":\")\n",
    "        dst_txt.write(','.join('%s' %id for id in row_ptrs_df.values.tolist()))\n",
    "        dst_txt.write(\"\\n}\\n]\\n}\")\n",
    "\n",
    "if __name__ == '__main__':\n",
    "    arg_parser = argparse.ArgumentParser(description='Convert Preprocessed Criteo Data to Inference Format')\n",
    "    arg_parser.add_argument('--src_csv_path', type=str, required=True)\n",
    "    arg_parser.add_argument('--src_config_path', type=str, required=True)\n",
    "    arg_parser.add_argument('--dst_path', type=str, required=True)\n",
    "    arg_parser.add_argument('--batch_size', type=int, default=128)\n",
    "    arg_parser.add_argument('--segmentation', type=str, default=' ')\n",
    "    args = arg_parser.parse_args()\n",
    "    src_csv_path = args.src_csv_path\n",
    "    segmentation = args.segmentation\n",
    "    src_config_path = args.src_config_path\n",
    "    dst_path = args.dst_path\n",
    "    batch_size = args.batch_size\n",
    "    convert(src_csv_path, src_config_path, dst_path, batch_size, segmentation)"
   ]
  },
  {
   "cell_type": "markdown",
   "id": "0f607515-4edf-4cf0-b299-98e295776577",
   "metadata": {},
   "source": [
    "## 4.3 Define inference input data format"
   ]
  },
  {
   "cell_type": "code",
   "execution_count": 17,
   "id": "ac14c55b-f6f5-40e3-aee8-f52b7a1c479f",
   "metadata": {},
   "outputs": [
    {
     "name": "stdout",
     "output_type": "stream",
     "text": [
      "Writing wdl_infer/wdl_input_format.json\n"
     ]
    }
   ],
   "source": [
    " %%writefile wdl_infer/wdl_input_format.json\n",
    "{\n",
    "    \"dense\": 13,\n",
    "    \"categorical\": 28,\n",
    "    \"slot_size\": [1,1,1,1,1,1,1,1,1,1,1,1,1,1,1,1,1,1,1,1,1,1,1,1,1,1,1,1]\n",
    "}"
   ]
  },
  {
   "cell_type": "code",
   "execution_count": 18,
   "id": "24ba835a-466d-4235-aae8-d50f61185a11",
   "metadata": {},
   "outputs": [
    {
     "name": "stdout",
     "output_type": "stream",
     "text": [
      "Traceback (most recent call last):\n",
      "  File \"wdl_infer/criteo2predict.py\", line 59, in <module>\n",
      "    convert(src_csv_path, src_config_path, dst_path, batch_size, segmentation)\n",
      "  File \"wdl_infer/criteo2predict.py\", line 34, in convert\n",
      "    embedding_columns_df = pd.DataFrame(df[['C'+str(i+1) for i in range(categorical_dim)]].values.reshape(1, batch_size*categorical_dim))\n",
      "  File \"/usr/local/lib/python3.8/dist-packages/pandas/core/frame.py\", line 2912, in __getitem__\n",
      "    indexer = self.loc._get_listlike_indexer(key, axis=1, raise_missing=True)[1]\n",
      "  File \"/usr/local/lib/python3.8/dist-packages/pandas/core/indexing.py\", line 1254, in _get_listlike_indexer\n",
      "    self._validate_read_indexer(keyarr, indexer, axis, raise_missing=raise_missing)\n",
      "  File \"/usr/local/lib/python3.8/dist-packages/pandas/core/indexing.py\", line 1304, in _validate_read_indexer\n",
      "    raise KeyError(f\"{not_found} not in index\")\n",
      "KeyError: \"['C27', 'C28'] not in index\"\n"
     ]
    }
   ],
   "source": [
    "batchsize=1\n",
    "!python3 wdl_infer/criteo2predict.py --src_csv_path=wdl_infer/infer_test.txt --src_config_path=wdl_infer/wdl_input_format.json --dst_path wdl_infer/$batchsize\".json\" --batch_size=$batchsize --segmentation=','"
   ]
  },
  {
   "cell_type": "code",
   "execution_count": null,
   "id": "73730dc5-69d8-4653-aab7-a4d5a0eba2c4",
   "metadata": {},
   "outputs": [],
   "source": []
  }
 ],
 "metadata": {
  "kernelspec": {
   "display_name": "Python 3",
   "language": "python",
   "name": "python3"
  },
  "language_info": {
   "codemirror_mode": {
    "name": "ipython",
    "version": 3
   },
   "file_extension": ".py",
   "mimetype": "text/x-python",
   "name": "python",
   "nbconvert_exporter": "python",
   "pygments_lexer": "ipython3",
   "version": "3.8.0"
  }
 },
 "nbformat": 4,
 "nbformat_minor": 5
}
