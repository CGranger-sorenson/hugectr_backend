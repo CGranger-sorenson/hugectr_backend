{
 "cells": [
  {
   "cell_type": "markdown",
   "id": "5b0d7bfc",
   "metadata": {},
   "source": [
    "<img src=\"http://developer.download.nvidia.com/compute/machine-learning/frameworks/nvidia_logo.png\" style=\"width: 90px; float: right;\">\n",
    "\n",
    "# HugeCTR Continuous Training and Inference Demo (Part II)"
   ]
  },
  {
   "cell_type": "markdown",
   "id": "605a325b-d4cd-4de6-8a39-c7fa7ceb43ac",
   "metadata": {},
   "source": [
    "**Please start Kafka Broker and Redis Cluster according to the README before starting Triton.**"
   ]
  },
  {
   "cell_type": "markdown",
   "id": "22b84945-b1d7-4b1d-88db-ac94b68c37f7",
   "metadata": {},
   "source": [
    "## Inference using Triton"
   ]
  },
  {
   "cell_type": "code",
   "execution_count": 3,
   "id": "5c5c8675-8d4c-43b6-b82d-70cc0aead312",
   "metadata": {},
   "outputs": [],
   "source": [
    "!pip install tritonclient[all]"
   ]
  },
  {
   "cell_type": "code",
   "execution_count": 32,
   "id": "41759a15-e091-4981-b10d-a3e157dfa456",
   "metadata": {},
   "outputs": [],
   "source": [
    "import os\n",
    "from time import time\n",
    "import re\n",
    "import shutil\n",
    "import glob\n",
    "import warnings\n",
    "\n",
    "BASE_DIR = \"/wdl_infer\"\n",
    "model_folder  = os.path.join(BASE_DIR, \"model\")\n",
    "wdl_model_repo= os.path.join(model_folder, \"wdl\")\n",
    "wdl_version =os.path.join(wdl_model_repo, \"1\")\n",
    "\n",
    "if os.path.isdir(model_folder):\n",
    "    shutil.rmtree(model_folder)\n",
    "os.makedirs(model_folder)\n",
    "\n",
    "if os.path.isdir(wdl_model_repo):\n",
    "    shutil.rmtree(wdl_model_repo)\n",
    "os.makedirs(wdl_model_repo)\n",
    "\n",
    "if os.path.isdir(wdl_version):\n",
    "    shutil.rmtree(wdl_version)\n",
    "os.makedirs(wdl_version)"
   ]
  },
  {
   "cell_type": "code",
   "execution_count": 33,
   "id": "d03daa0c-aa35-44be-bbbb-68111078b78f",
   "metadata": {},
   "outputs": [
    {
     "name": "stdout",
     "output_type": "stream",
     "text": [
      "total 5840\n",
      "-rw-r--r-- 1 root root    3628 Nov 30 12:07 wdl.json\n",
      "drwxr-xr-x 2 root root    4096 Nov 30 12:07 wdl_0_sparse_model\n",
      "drwxr-xr-x 2 root root    4096 Nov 30 12:07 wdl_1_sparse_model\n",
      "-rw-r--r-- 1 root root 5963780 Nov 30 12:07 wdl_dense_0.model\n"
     ]
    }
   ],
   "source": [
    "!cp -r wdl_0_sparse_model $wdl_version/\n",
    "!cp -r wdl_1_sparse_model $wdl_version/\n",
    "!cp  wdl_dense_0.model $wdl_version/\n",
    "!cp wdl.json $wdl_version/\n",
    "!ls -l $wdl_version"
   ]
  },
  {
   "cell_type": "code",
   "execution_count": 34,
   "id": "5af93d59-ed16-474b-b484-49a003798891",
   "metadata": {},
   "outputs": [
    {
     "name": "stdout",
     "output_type": "stream",
     "text": [
      "Writing /wdl_infer/model/wdl/config.pbtxt\n"
     ]
    }
   ],
   "source": [
    "%%writefile $wdl_model_repo/config.pbtxt\n",
    "name: \"wdl\"\n",
    "backend: \"hugectr\"\n",
    "max_batch_size:64,\n",
    "input [\n",
    "   {\n",
    "    name: \"DES\"\n",
    "    data_type: TYPE_FP32\n",
    "    dims: [ -1 ]\n",
    "  },\n",
    "  {\n",
    "    name: \"CATCOLUMN\"\n",
    "    data_type: TYPE_INT64\n",
    "    dims: [ -1 ]\n",
    "  },\n",
    "  {\n",
    "    name: \"ROWINDEX\"\n",
    "    data_type: TYPE_INT32\n",
    "    dims: [ -1 ]\n",
    "  }\n",
    "]\n",
    "output [\n",
    "  {\n",
    "    name: \"OUTPUT0\"\n",
    "    data_type: TYPE_FP32\n",
    "    dims: [ -1 ]\n",
    "  }\n",
    "]\n",
    "instance_group [\n",
    "  {\n",
    "    count: 1\n",
    "    kind : KIND_GPU\n",
    "    gpus:[0]\n",
    "  }\n",
    "]\n",
    "\n",
    "parameters [\n",
    "  {\n",
    "  key: \"config\"\n",
    "  value: { string_value: \"/wdl_infer/model/wdl/1/wdl.json\" }\n",
    "  },\n",
    "  {\n",
    "  key: \"gpucache\"\n",
    "  value: { string_value: \"true\" }\n",
    "  },\n",
    "  {\n",
    "  key: \"hit_rate_threshold\"\n",
    "  value: { string_value: \"0.8\" }\n",
    "  },\n",
    "  {\n",
    "  key: \"gpucacheper\"\n",
    "  value: { string_value: \"0.5\" }\n",
    "  },\n",
    "  {\n",
    "  key: \"label_dim\"\n",
    "  value: { string_value: \"1\" }\n",
    "  },\n",
    "  {\n",
    "  key: \"slots\"\n",
    "  value: { string_value: \"27\" }\n",
    "  },\n",
    "  {\n",
    "  key: \"cat_feature_num\"\n",
    "  value: { string_value: \"28\" }\n",
    "  },\n",
    " {\n",
    "  key: \"des_feature_num\"\n",
    "  value: { string_value: \"13\" }\n",
    "  },\n",
    "  {\n",
    "  key: \"max_nnz\"\n",
    "  value: { string_value: \"2\" }\n",
    "  },\n",
    "  {\n",
    "  key: \"embedding_vector_size\"\n",
    "  value: { string_value: \"16\" }\n",
    "  },\n",
    "  {\n",
    "  key: \"embeddingkey_long_type\"\n",
    "  value: { string_value: \"true\" }\n",
    "  }\n",
    "]"
   ]
  },
  {
   "cell_type": "code",
   "execution_count": 35,
   "id": "2e510c33-f1c8-4355-97f4-848d7ad0b123",
   "metadata": {},
   "outputs": [
    {
     "name": "stdout",
     "output_type": "stream",
     "text": [
      "mkdir: cannot create directory ‘/wdl_infer/rocksdb’: File exists\n"
     ]
    }
   ],
   "source": [
    "!mkdir /wdl_infer/rocksdb"
   ]
  },
  {
   "cell_type": "code",
   "execution_count": 49,
   "id": "eba0ea59-e797-4d14-8d09-844d5e87873f",
   "metadata": {},
   "outputs": [
    {
     "name": "stdout",
     "output_type": "stream",
     "text": [
      "Overwriting /wdl_infer/model/ps.json\n"
     ]
    }
   ],
   "source": [
    "%%writefile /wdl_infer/model/ps.json\n",
    "{\n",
    "    \"supportlonglong\":true,\n",
    "    \"cpu_memory_db\": {\n",
    "        \"type\": \"disabled\",\n",
    "        \"num_partitions\": 8,\n",
    "        \"overflow_policy\": \"evict_oldest\",\n",
    "        \"partition_overflow_margin\": 1000000,\n",
    "        \"partition_overflow_resolution_target\": 0.8,\n",
    "        \"initial_cache_rate\": 1,\n",
    "        \"update_filters\": [ \"wurst0\", \".+\" ]\n",
    "    },\n",
    "    \"distributed_db\": {\n",
    "        \"type\": \"redis_cluster\",\n",
    "        \"address\": \"127.0.0.1:7000,127.0.0.1:7001,127.0.0.1:7002\",\n",
    "        \"user_name\": \"default\",\n",
    "        \"password\": \"\",\n",
    "        \"num_partitions\": 8,\n",
    "        \"max_get_batch_size\": 10000,\n",
    "        \"max_set_batch_size\": 10000,\n",
    "        \"overflow_policy\": \"evict_oldest\",\n",
    "        \"partition_overflow_margin\": 10000000,\n",
    "        \"partition_overflow_resolution_target\": 0.8,\n",
    "        \"initial_cache_rate\": 0.5,\n",
    "        \"update_filters\": [ \"wurst1\", \".+\" ]\n",
    "    },\n",
    "    \"persistent_db\": {\n",
    "        \"type\": \"rocksdb\",\n",
    "        \"path\": \"/wdl_infer/rocksdb\",\n",
    "        \"num_threads\": 16,\n",
    "        \"read_only\": false,\n",
    "        \"max_get_batch_size\": 10000,\n",
    "        \"max_set_batch_size\": 10000,\n",
    "        \"update_filters\": [ \"wurst2\", \".+\" ]\n",
    "    },\n",
    "    \"update_source\": {\n",
    "        \"type\": \"kafka\",\n",
    "        \"brokers\": \"10.23.137.25:9093\",\n",
    "        \"poll_timeout_ms\": 500,\n",
    "        \"max_receive_buffer_size\": 2000,\n",
    "        \"max_batch_size\": 1000,\n",
    "        \"failure_backoff_ms\": 50\n",
    "    },\n",
    "    \"models\":[\n",
    "        {\n",
    "            \"model\":\"wdl\",\n",
    "            \"sparse_files\":[\"/wdl_infer/model/wdl/1/wdl_0_sparse_model\", \"/wdl_infer/model/wdl/1/wdl_1_sparse_model\"],\n",
    "            \"dense_file\":\"/wdl_infer/model/wdl/1/wdl_dense_0.model\",\n",
    "            \"network_file\":\"/wdl_infer/model/wdl/1/wdl.json\",\n",
    "            \"num_of_worker_buffer_in_pool\": \"1\",\n",
    "            \"num_of_refresher_buffer_in_pool\": \"1\",\n",
    "            \"cache_refresh_percentage_per_iteration\": \"0.2\",\n",
    "            \"deployed_device_list\":[\"0\"],\n",
    "            \"max_batch_size\":\"64\",\n",
    "            \"default_value_for_each_table\":[\"0.0\",\"0.0\"],\n",
    "            \"hit_rate_threshold\":\"0.9\",\n",
    "            \"gpucacheper\":\"0.5\",\n",
    "            \"gpucache\":\"true\"\n",
    "        }\n",
    "    ]\n",
    "}"
   ]
  },
  {
   "cell_type": "code",
   "execution_count": 20,
   "id": "b177b89d-ff2a-4ae4-b959-0506e22bc474",
   "metadata": {},
   "outputs": [
    {
     "name": "stdout",
     "output_type": "stream",
     "text": [
      "Writing /wdl_infer/model/ps.json\n"
     ]
    }
   ],
   "source": [
    "%%writefile /wdl_infer/model/ps.json\n",
    "{   \n",
    "    \"supportlonglong\":true,\n",
    "    \"models\":[\n",
    "        {\n",
    "            \"model\":\"wdl\",\n",
    "            \"sparse_files\":[\"/wdl_infer/model/wdl/1/wdl_0_sparse_model\", \"/wdl_infer/model/wdl/1/wdl_1_sparse_model\"],\n",
    "            \"dense_file\":\"/wdl_infer/model/wdl/1/wdl_dense_0.model\",\n",
    "            \"network_file\":\"/wdl_infer/model/wdl/1/wdl.json\",\n",
    "            \"num_of_worker_buffer_in_pool\": \"1\",\n",
    "            \"num_of_refresher_buffer_in_pool\": \"1\",\n",
    "            \"cache_refresh_percentage_per_iteration\": \"0.2\",\n",
    "            \"deployed_device_list\":[\"0\"],\n",
    "            \"max_batch_size\":\"64\",\n",
    "            \"default_value_for_each_table\":[\"0.0\",\"0.0\"],\n",
    "            \"hit_rate_threshold\":\"0.9\",\n",
    "            \"gpucacheper\":\"0.5\",\n",
    "            \"gpucache\":\"true\"\n",
    "        }\n",
    "    ]\n",
    "}"
   ]
  },
  {
   "cell_type": "markdown",
   "id": "3d10fea9-c7e1-4fdd-87e9-c06297170b03",
   "metadata": {},
   "source": [
    "**Start the Triton server in a new terminal using the following command:**\n",
    "```\n",
    "tritonserver --model-repository=/wdl_infer/model/ --load-model=wdl --model-control-mode=explicit --backend-directory=/usr/local/hugectr/backends --backend-config=hugectr,ps=/wdl_infer/model/ps.json\n",
    "```"
   ]
  },
  {
   "cell_type": "code",
   "execution_count": 24,
   "id": "2147d129-15e6-43ca-b2d5-f79e89eb1eba",
   "metadata": {},
   "outputs": [
    {
     "name": "stdout",
     "output_type": "stream",
     "text": [
      "Overwriting triton_infer.py\n"
     ]
    }
   ],
   "source": [
    "%%writefile triton_infer.py\n",
    "\n",
    "from tritonclient.utils import *\n",
    "import tritonclient.http  as httpclient\n",
    "import numpy as np\n",
    "import pandas as pd\n",
    "import sys\n",
    "\n",
    "model_name = 'wdl'\n",
    "CATEGORICAL_COLUMNS=[\"C1_C2\",\"C3_C4\"] + [\"C\" + str(x) for x in range(1, 27)]\n",
    "CONTINUOUS_COLUMNS=[\"I\" + str(x) for x in range(1, 14)]\n",
    "LABEL_COLUMNS = ['label']\n",
    "test_df=pd.read_csv(\"infer_data.csv\",sep=',')\n",
    "\n",
    "with httpclient.InferenceServerClient(\"localhost:8000\") as client:\n",
    "    dense_features = np.array([list(test_df[CONTINUOUS_COLUMNS].values.flatten())],dtype='float32')\n",
    "    #dense_features = np.array([np.zeros(13, dtype=\"float32\")])\n",
    "    #print(dense_features)\n",
    "    embedding_columns = np.array([list((test_df[CATEGORICAL_COLUMNS]).values.flatten())],dtype='int64')\n",
    "    #embedding_columns = np.array([np.array([0]*2 + [0]*26, dtype='int64')])\n",
    "    #print(embedding_columns)\n",
    "    row_ptrs = np.array([list(range(0,11,2)) + list(range(0,131))], dtype='int32')\n",
    "    #print(row_ptrs)\n",
    "    \n",
    "    inputs = [\n",
    "        httpclient.InferInput(\"DES\", dense_features.shape,\n",
    "                              np_to_triton_dtype(dense_features.dtype)),\n",
    "        httpclient.InferInput(\"CATCOLUMN\", embedding_columns.shape,\n",
    "                              np_to_triton_dtype(embedding_columns.dtype)),\n",
    "        httpclient.InferInput(\"ROWINDEX\", row_ptrs.shape,\n",
    "                              np_to_triton_dtype(row_ptrs.dtype)),\n",
    "\n",
    "    ]\n",
    "\n",
    "    inputs[0].set_data_from_numpy(dense_features)\n",
    "    inputs[1].set_data_from_numpy(embedding_columns)\n",
    "    inputs[2].set_data_from_numpy(row_ptrs)\n",
    "    outputs = [\n",
    "        httpclient.InferRequestedOutput(\"OUTPUT0\")\n",
    "    ]\n",
    "\n",
    "    response = client.infer(model_name,\n",
    "                            inputs,\n",
    "                            request_id=str(1),\n",
    "                            outputs=outputs)\n",
    "\n",
    "    result = response.get_response()\n",
    "    print(result)\n",
    "    print(\"Prediction Result:\")\n",
    "    print(response.as_numpy(\"OUTPUT0\"))"
   ]
  },
  {
   "cell_type": "code",
   "execution_count": 50,
   "id": "5f4cc3a5-148f-4a0d-8dbc-e756bbe39d6e",
   "metadata": {},
   "outputs": [
    {
     "name": "stdout",
     "output_type": "stream",
     "text": [
      "Traceback (most recent call last):\n",
      "  File \"/usr/local/lib/python3.8/dist-packages/geventhttpclient/connectionpool.py\", line 163, in get_socket\n",
      "    return self._socket_queue.get(block=False)\n",
      "  File \"src/gevent/queue.py\", line 335, in gevent._gevent_cqueue.Queue.get\n",
      "  File \"src/gevent/queue.py\", line 350, in gevent._gevent_cqueue.Queue.get\n",
      "  File \"src/gevent/queue.py\", line 319, in gevent._gevent_cqueue.Queue._Queue__get_or_peek\n",
      "    \n",
      "_queue.Empty\n",
      "\n",
      "During handling of the above exception, another exception occurred:\n",
      "\n",
      "Traceback (most recent call last):\n",
      "  File \"triton_infer.py\", line 41, in <module>\n",
      "    response = client.infer(model_name,\n",
      "  File \"/usr/local/lib/python3.8/dist-packages/tritonclient/http/__init__.py\", line 1252, in infer\n",
      "    response = self._post(request_uri=request_uri,\n",
      "  File \"/usr/local/lib/python3.8/dist-packages/tritonclient/http/__init__.py\", line 304, in _post\n",
      "    response = self._client_stub.post(request_uri=request_uri,\n",
      "  File \"/usr/local/lib/python3.8/dist-packages/geventhttpclient/client.py\", line 272, in post\n",
      "    return self.request(METHOD_POST, request_uri, body=body, headers=headers)\n",
      "  File \"/usr/local/lib/python3.8/dist-packages/geventhttpclient/client.py\", line 226, in request\n",
      "    sock = self._connection_pool.get_socket()\n",
      "  File \"/usr/local/lib/python3.8/dist-packages/geventhttpclient/connectionpool.py\", line 166, in get_socket\n",
      "    return self._create_socket()\n",
      "  File \"/usr/local/lib/python3.8/dist-packages/geventhttpclient/connectionpool.py\", line 127, in _create_socket\n",
      "    raise first_error\n",
      "  File \"/usr/local/lib/python3.8/dist-packages/geventhttpclient/connectionpool.py\", line 114, in _create_socket\n",
      "    sock = self._connect_socket(sock, sock_info[-1])\n",
      "  File \"/usr/local/lib/python3.8/dist-packages/geventhttpclient/connectionpool.py\", line 136, in _connect_socket\n",
      "    sock.connect(address)\n",
      "  File \"/usr/local/lib/python3.8/dist-packages/gevent/_socketcommon.py\", line 607, in connect\n",
      "    raise _SocketError(err, strerror(err))\n",
      "ConnectionRefusedError: [Errno 111] Connection refused\n"
     ]
    }
   ],
   "source": [
    "!python3 triton_infer.py"
   ]
  },
  {
   "cell_type": "code",
   "execution_count": null,
   "id": "8b8082c7-9af8-46c0-8d57-7be2cd68864e",
   "metadata": {},
   "outputs": [],
   "source": []
  }
 ],
 "metadata": {
  "kernelspec": {
   "display_name": "Python 3 (ipykernel)",
   "language": "python",
   "name": "python3"
  },
  "language_info": {
   "codemirror_mode": {
    "name": "ipython",
    "version": 3
   },
   "file_extension": ".py",
   "mimetype": "text/x-python",
   "name": "python",
   "nbconvert_exporter": "python",
   "pygments_lexer": "ipython3",
   "version": "3.8.10"
  }
 },
 "nbformat": 4,
 "nbformat_minor": 5
}
